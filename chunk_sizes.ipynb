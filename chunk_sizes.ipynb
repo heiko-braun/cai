{
 "cells": [
  {
   "cell_type": "code",
   "execution_count": 1,
   "id": "832909f4-d31d-44e9-ae42-72d082ee38d2",
   "metadata": {},
   "outputs": [
    {
     "ename": "NameError",
     "evalue": "name 'os' is not defined",
     "output_type": "error",
     "traceback": [
      "\u001b[0;31m---------------------------------------------------------------------------\u001b[0m",
      "\u001b[0;31mNameError\u001b[0m                                 Traceback (most recent call last)",
      "Cell \u001b[0;32mIn[1], line 45\u001b[0m\n\u001b[1;32m     36\u001b[0m \u001b[38;5;66;03m# Provide the path to the directory you want to analyze\u001b[39;00m\n\u001b[1;32m     37\u001b[0m paths \u001b[38;5;241m=\u001b[39m [\n\u001b[1;32m     38\u001b[0m     \u001b[38;5;124m'\u001b[39m\u001b[38;5;124m./data/text/rhaetor.github.io_components\u001b[39m\u001b[38;5;124m'\u001b[39m,\n\u001b[1;32m     39\u001b[0m     \u001b[38;5;124m'\u001b[39m\u001b[38;5;124m./data/text/rhaetor.github.io\u001b[39m\u001b[38;5;124m'\u001b[39m,\n\u001b[0;32m   (...)\u001b[0m\n\u001b[1;32m     42\u001b[0m     \u001b[38;5;124m'\u001b[39m\u001b[38;5;124m./data/text/_old/fuse_component_reference/\u001b[39m\u001b[38;5;124m'\u001b[39m\n\u001b[1;32m     43\u001b[0m ]\n\u001b[0;32m---> 45\u001b[0m \u001b[43m[\u001b[49m\u001b[43mprint_median_sizes\u001b[49m\u001b[43m(\u001b[49m\u001b[43mp\u001b[49m\u001b[43m)\u001b[49m\u001b[43m \u001b[49m\u001b[38;5;28;43;01mfor\u001b[39;49;00m\u001b[43m \u001b[49m\u001b[43mp\u001b[49m\u001b[43m \u001b[49m\u001b[38;5;129;43;01min\u001b[39;49;00m\u001b[43m \u001b[49m\u001b[43mpaths\u001b[49m\u001b[43m]\u001b[49m\n\u001b[1;32m     47\u001b[0m [plot_file_sizes_histogram(p) \u001b[38;5;28;01mfor\u001b[39;00m p \u001b[38;5;129;01min\u001b[39;00m paths]\n",
      "Cell \u001b[0;32mIn[1], line 45\u001b[0m, in \u001b[0;36m<listcomp>\u001b[0;34m(.0)\u001b[0m\n\u001b[1;32m     36\u001b[0m \u001b[38;5;66;03m# Provide the path to the directory you want to analyze\u001b[39;00m\n\u001b[1;32m     37\u001b[0m paths \u001b[38;5;241m=\u001b[39m [\n\u001b[1;32m     38\u001b[0m     \u001b[38;5;124m'\u001b[39m\u001b[38;5;124m./data/text/rhaetor.github.io_components\u001b[39m\u001b[38;5;124m'\u001b[39m,\n\u001b[1;32m     39\u001b[0m     \u001b[38;5;124m'\u001b[39m\u001b[38;5;124m./data/text/rhaetor.github.io\u001b[39m\u001b[38;5;124m'\u001b[39m,\n\u001b[0;32m   (...)\u001b[0m\n\u001b[1;32m     42\u001b[0m     \u001b[38;5;124m'\u001b[39m\u001b[38;5;124m./data/text/_old/fuse_component_reference/\u001b[39m\u001b[38;5;124m'\u001b[39m\n\u001b[1;32m     43\u001b[0m ]\n\u001b[0;32m---> 45\u001b[0m [\u001b[43mprint_median_sizes\u001b[49m\u001b[43m(\u001b[49m\u001b[43mp\u001b[49m\u001b[43m)\u001b[49m \u001b[38;5;28;01mfor\u001b[39;00m p \u001b[38;5;129;01min\u001b[39;00m paths]\n\u001b[1;32m     47\u001b[0m [plot_file_sizes_histogram(p) \u001b[38;5;28;01mfor\u001b[39;00m p \u001b[38;5;129;01min\u001b[39;00m paths]\n",
      "Cell \u001b[0;32mIn[1], line 32\u001b[0m, in \u001b[0;36mprint_median_sizes\u001b[0;34m(directory_path)\u001b[0m\n\u001b[1;32m     31\u001b[0m \u001b[38;5;28;01mdef\u001b[39;00m \u001b[38;5;21mprint_median_sizes\u001b[39m(directory_path):\n\u001b[0;32m---> 32\u001b[0m     file_sizes \u001b[38;5;241m=\u001b[39m \u001b[43mcollect_filesizes\u001b[49m\u001b[43m(\u001b[49m\u001b[43mdirectory_path\u001b[49m\u001b[43m)\u001b[49m\n\u001b[1;32m     33\u001b[0m     median_value \u001b[38;5;241m=\u001b[39m np\u001b[38;5;241m.\u001b[39mmedian(file_sizes)\n\u001b[1;32m     34\u001b[0m     \u001b[38;5;28mprint\u001b[39m(directory_path, \u001b[38;5;124m\"\u001b[39m\u001b[38;5;124m Median: \u001b[39m\u001b[38;5;124m\"\u001b[39m, median_value)\n",
      "Cell \u001b[0;32mIn[1], line 8\u001b[0m, in \u001b[0;36mcollect_filesizes\u001b[0;34m(directory_path)\u001b[0m\n\u001b[1;32m      6\u001b[0m file_sizes \u001b[38;5;241m=\u001b[39m []\n\u001b[1;32m      7\u001b[0m \u001b[38;5;66;03m# Iterate over files in the directory\u001b[39;00m\n\u001b[0;32m----> 8\u001b[0m \u001b[38;5;28;01mfor\u001b[39;00m filename \u001b[38;5;129;01min\u001b[39;00m \u001b[43mos\u001b[49m\u001b[38;5;241m.\u001b[39mlistdir(directory_path):\n\u001b[1;32m      9\u001b[0m     filepath \u001b[38;5;241m=\u001b[39m os\u001b[38;5;241m.\u001b[39mpath\u001b[38;5;241m.\u001b[39mjoin(directory_path, filename)\n\u001b[1;32m     11\u001b[0m     \u001b[38;5;66;03m# Check if it's a file (not a directory)\u001b[39;00m\n",
      "\u001b[0;31mNameError\u001b[0m: name 'os' is not defined"
     ]
    }
   ],
   "source": [
    "import os\n",
    "import matplotlib.pyplot as plt\n",
    "import numpy as np\n",
    "\n",
    "def collect_filesizes(directory_path):\n",
    "    file_sizes = []\n",
    "    # Iterate over files in the directory\n",
    "    for filename in os.listdir(directory_path):\n",
    "        filepath = os.path.join(directory_path, filename)\n",
    "        \n",
    "        # Check if it's a file (not a directory)\n",
    "        if os.path.isfile(filepath):\n",
    "            # Get the size of the file in bytes\n",
    "            file_size = os.path.getsize(filepath)\n",
    "            \n",
    "            # Append file size to the list\n",
    "            file_sizes.append(file_size)\n",
    "    return file_sizes\n",
    "    \n",
    "def plot_file_sizes_histogram(directory_path, bin_size=1024*2):  # bin_size in bytes, default is 2 KB\n",
    "    file_sizes = collect_filesizes(directory_path)\n",
    "    \n",
    "    # Plotting histogram\n",
    "    plt.figure(figsize=(10, 6))\n",
    "    plt.hist(file_sizes, bins=range(0, max(file_sizes) + bin_size, bin_size), edgecolor='black')\n",
    "    plt.xlabel('File Size (bytes)')\n",
    "    plt.ylabel('Frequency')\n",
    "    plt.title('File Size Distribution in Directory: {}'.format(directory_path))\n",
    "    plt.show()\n",
    "\n",
    "def print_median_sizes(directory_path):\n",
    "    file_sizes = collect_filesizes(directory_path)\n",
    "    median_value = np.median(file_sizes)\n",
    "    print(directory_path, \" Median: \", median_value)\n",
    "\n",
    "# Provide the path to the directory you want to analyze\n",
    "paths = [\n",
    "    './data/text/rhaetor.github.io_components',\n",
    "    './data/text/rhaetor.github.io',\n",
    "    './data/text/spring_reference', \n",
    "    './data/text/_old/agent_fuse_comp_ref/',\n",
    "    './data/text/_old/fuse_component_reference/'\n",
    "]\n",
    "\n",
    "[print_median_sizes(p) for p in paths]\n",
    "\n",
    "[plot_file_sizes_histogram(p) for p in paths]\n"
   ]
  }
 ],
 "metadata": {
  "kernelspec": {
   "display_name": "Python 3 (ipykernel)",
   "language": "python",
   "name": "python3"
  },
  "language_info": {
   "codemirror_mode": {
    "name": "ipython",
    "version": 3
   },
   "file_extension": ".py",
   "mimetype": "text/x-python",
   "name": "python",
   "nbconvert_exporter": "python",
   "pygments_lexer": "ipython3",
   "version": "3.11.6"
  }
 },
 "nbformat": 4,
 "nbformat_minor": 5
}
