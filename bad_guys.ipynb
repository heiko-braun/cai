{
 "cells": [
  {
   "cell_type": "code",
   "execution_count": 2,
   "id": "a46a6551-726c-40b2-acd5-47e199a19c4d",
   "metadata": {},
   "outputs": [],
   "source": [
    "from conf.constants import QDRANT_KEY, QDRANT_URL\n",
    "from openai import OpenAI\n",
    "from qdrant_client import QdrantClient\n",
    "\n",
    "import warnings\n",
    "warnings.simplefilter(action='ignore', category=FutureWarning)\n",
    "import pandas as pd\n",
    "\n",
    "# create an embedding using openai\n",
    "def get_embedding(text, model=\"text-embedding-ada-002\"):\n",
    "   text = text.replace(\"\\n\", \" \")\n",
    "   resp = OpenAI().embeddings.create(input = [text], model=model)\n",
    "   return resp.data[0].embedding\n",
    "\n",
    "# query the vector store\n",
    "def query_qdrant(query, collection_name, top_k=5):\n",
    "    \n",
    "    embedded_query = get_embedding(text=query)\n",
    "\n",
    "    qdrant_client = QdrantClient(\n",
    "        QDRANT_URL,\n",
    "        api_key=QDRANT_KEY,\n",
    "    )\n",
    "    \n",
    "    query_results = qdrant_client.search(\n",
    "        collection_name=collection_name,\n",
    "        query_vector=(embedded_query),\n",
    "        limit=top_k,\n",
    "    )\n",
    "    \n",
    "    return query_results\n"
   ]
  },
  {
   "cell_type": "code",
   "execution_count": 19,
   "id": "2259e350-9ed6-4982-8bb0-c6529c1861e8",
   "metadata": {},
   "outputs": [
    {
     "data": {
      "text/html": [
       "<div>\n",
       "<style scoped>\n",
       "    .dataframe tbody tr th:only-of-type {\n",
       "        vertical-align: middle;\n",
       "    }\n",
       "\n",
       "    .dataframe tbody tr th {\n",
       "        vertical-align: top;\n",
       "    }\n",
       "\n",
       "    .dataframe thead th {\n",
       "        text-align: right;\n",
       "    }\n",
       "</style>\n",
       "<table border=\"1\" class=\"dataframe\">\n",
       "  <thead>\n",
       "    <tr style=\"text-align: right;\">\n",
       "      <th></th>\n",
       "      <th>id</th>\n",
       "      <th>score</th>\n",
       "      <th>page_ref</th>\n",
       "      <th>entities</th>\n",
       "      <th>content</th>\n",
       "      <th>content_size</th>\n",
       "    </tr>\n",
       "  </thead>\n",
       "  <tbody>\n",
       "  </tbody>\n",
       "</table>\n",
       "</div>"
      ],
      "text/plain": [
       "Empty DataFrame\n",
       "Columns: [id, score, page_ref, entities, content, content_size]\n",
       "Index: []"
      ]
     },
     "execution_count": 19,
     "metadata": {},
     "output_type": "execute_result"
    }
   ],
   "source": [
    "COLLECTION = \"quarkus_reference\"\n",
    "QUERY = \"JMS\"\n",
    "NUM_RESULTS = 100\n",
    "query_results = query_qdrant(        \n",
    "    query=QUERY, \n",
    "    collection_name=COLLECTION,\n",
    "    top_k=NUM_RESULTS\n",
    "    )\n",
    "\n",
    "df = pd.DataFrame(columns=['id', 'score', 'page_ref', 'entities', 'content', 'content_size'])\n",
    "\n",
    "for i, article in enumerate(query_results):    \n",
    "    data = {\n",
    "        \"id\": article.id, \n",
    "        \"score\": round(article.score, 3),\n",
    "        \"page_ref\": article.payload[\"metadata\"][\"page_number\"],\n",
    "        \"entities\": article.payload[\"metadata\"][\"entities\"],\n",
    "        \"content\": article.payload[\"page_content\"],              \n",
    "        \"content_size\": len(article.payload[\"page_content\"])  \n",
    "    }\n",
    "    df_new_rows = pd.DataFrame(data, index=[i])\n",
    "    df = pd.concat([df, df_new_rows])    \n",
    "\n",
    "large_items = df[df[\"content_size\"]>4000]\n",
    "large_items.head()\n"
   ]
  },
  {
   "cell_type": "code",
   "execution_count": 18,
   "id": "5ff653a6-8048-487e-a978-c93845f9e98a",
   "metadata": {},
   "outputs": [
    {
     "data": {
      "text/plain": [
       "UpdateResult(operation_id=210, status=<UpdateStatus.COMPLETED: 'completed'>)"
      ]
     },
     "execution_count": 18,
     "metadata": {},
     "output_type": "execute_result"
    }
   ],
   "source": [
    "# delete the large items\n",
    "from qdrant_client.models import PointIdsList\n",
    "client = QdrantClient(\n",
    "        QDRANT_URL,\n",
    "        api_key=QDRANT_KEY,\n",
    "    )\n",
    "\n",
    "client.delete(\n",
    "    collection_name=COLLECTION,\n",
    "    points_selector= PointIdsList(\n",
    "        points=[\"45bc76b7-77c7-4225-8aa0-1a1631c3f447\"],\n",
    "    ),\n",
    ")"
   ]
  }
 ],
 "metadata": {
  "kernelspec": {
   "display_name": "Python 3 (ipykernel)",
   "language": "python",
   "name": "python3"
  },
  "language_info": {
   "codemirror_mode": {
    "name": "ipython",
    "version": 3
   },
   "file_extension": ".py",
   "mimetype": "text/x-python",
   "name": "python",
   "nbconvert_exporter": "python",
   "pygments_lexer": "ipython3",
   "version": "3.11.6"
  }
 },
 "nbformat": 4,
 "nbformat_minor": 5
}
