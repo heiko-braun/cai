{
 "cells": [
  {
   "cell_type": "code",
   "execution_count": 1,
   "id": "da8c4600-d3c8-4bda-aa90-ce9dfd6b634e",
   "metadata": {},
   "outputs": [],
   "source": [
    "from conf.constants import QDRANT_KEY, QDRANT_URL\n",
    "from openai import OpenAI\n",
    "from qdrant_client import QdrantClient\n",
    "\n",
    "import warnings\n",
    "warnings.simplefilter(action='ignore', category=FutureWarning)\n",
    "import pandas as pd\n",
    "\n",
    "# create an embedding using openai\n",
    "def get_embedding(text, model=\"text-embedding-ada-002\"):\n",
    "   text = text.replace(\"\\n\", \" \")\n",
    "   resp = OpenAI().embeddings.create(input = [text], model=model)\n",
    "   return resp.data[0].embedding\n",
    "\n",
    "# query the vector store\n",
    "def query_qdrant(query, collection_name, top_k=5):\n",
    "    \n",
    "    embedded_query = get_embedding(text=query)\n",
    "\n",
    "    qdrant_client = QdrantClient(\n",
    "        QDRANT_URL,\n",
    "        api_key=QDRANT_KEY,\n",
    "    )\n",
    "    \n",
    "    query_results = qdrant_client.search(\n",
    "        collection_name=collection_name,\n",
    "        query_vector=(embedded_query),\n",
    "        limit=top_k,\n",
    "    )\n",
    "    \n",
    "    return query_results\n"
   ]
  },
  {
   "cell_type": "code",
   "execution_count": 25,
   "id": "3ff186b7-a7fe-46bf-806b-578b9549c4cf",
   "metadata": {},
   "outputs": [],
   "source": [
    "COLLECTION = \"rhaetor.github.io_components\"\n",
    "QUERY = \"JMS\"\n",
    "NUM_RESULTS = 5\n",
    "query_results = query_qdrant(        \n",
    "    query=QUERY, \n",
    "    collection_name=COLLECTION,\n",
    "    top_k=NUM_RESULTS\n",
    "    )\n",
    "\n",
    "# list results oreder by score\n",
    "df = pd.DataFrame(columns=['id', 'score', 'page_ref', 'entities', 'content'])\n",
    "\n",
    "for i, article in enumerate(query_results):    \n",
    "    data = {\n",
    "        \"id\": article.id, \n",
    "        \"score\": round(article.score, 3),\n",
    "        \"page_ref\": article.payload[\"metadata\"][\"page_number\"],\n",
    "        \"entities\": article.payload[\"metadata\"][\"entities\"],\n",
    "        \"content\": article.payload[\"page_content\"]              \n",
    "    }\n",
    "    df_new_rows = pd.DataFrame(data, index=[i])\n",
    "    df = pd.concat([df, df_new_rows])    "
   ]
  },
  {
   "cell_type": "markdown",
   "id": "8a31ebce-d03c-4f18-b021-2eb353afcf70",
   "metadata": {},
   "source": [
    "# General structure"
   ]
  },
  {
   "cell_type": "code",
   "execution_count": 26,
   "id": "e30f9296-19d0-47c4-af4d-8004c7af9d9b",
   "metadata": {},
   "outputs": [
    {
     "data": {
      "text/html": [
       "<div>\n",
       "<style scoped>\n",
       "    .dataframe tbody tr th:only-of-type {\n",
       "        vertical-align: middle;\n",
       "    }\n",
       "\n",
       "    .dataframe tbody tr th {\n",
       "        vertical-align: top;\n",
       "    }\n",
       "\n",
       "    .dataframe thead th {\n",
       "        text-align: right;\n",
       "    }\n",
       "</style>\n",
       "<table border=\"1\" class=\"dataframe\">\n",
       "  <thead>\n",
       "    <tr style=\"text-align: right;\">\n",
       "      <th></th>\n",
       "      <th>id</th>\n",
       "      <th>score</th>\n",
       "      <th>page_ref</th>\n",
       "      <th>entities</th>\n",
       "      <th>content</th>\n",
       "    </tr>\n",
       "  </thead>\n",
       "  <tbody>\n",
       "    <tr>\n",
       "      <th>0</th>\n",
       "      <td>418e16a3-6cb6-472e-96bf-058c2dfc6a0a</td>\n",
       "      <td>0.860</td>\n",
       "      <td>_next_sjms-component.html.txt_10</td>\n",
       "      <td>0. Camel component name: SJMS\\n1. Relevant tec...</td>\n",
       "      <td>\"For example, the following route shows how yo...</td>\n",
       "    </tr>\n",
       "    <tr>\n",
       "      <th>1</th>\n",
       "      <td>5f0085d1-fb26-4de0-9f65-9d011f961727</td>\n",
       "      <td>0.855</td>\n",
       "      <td>_next_sjms-component.html.txt_0</td>\n",
       "      <td>0. Camel component name: Simple JMS\\n1. Releva...</td>\n",
       "      <td>\"Article source: https://rhaetor.github.io/rh-...</td>\n",
       "    </tr>\n",
       "    <tr>\n",
       "      <th>2</th>\n",
       "      <td>761548f4-5682-4f44-9c6e-265d39cdf7cc</td>\n",
       "      <td>0.854</td>\n",
       "      <td>_next_jms-component.html.txt_23</td>\n",
       "      <td>0. Camel component name: JMS\\n1. Relevant tech...</td>\n",
       "      <td>\"Set to true, if you want to send message usin...</td>\n",
       "    </tr>\n",
       "    <tr>\n",
       "      <th>3</th>\n",
       "      <td>4436ca1f-815f-4a39-9c6d-28ee4697b485</td>\n",
       "      <td>0.854</td>\n",
       "      <td>_next_sjms-component.html.txt_4</td>\n",
       "      <td>0. Camel component name: JMS\\n1. Relevant tech...</td>\n",
       "      <td>\"Specifies whether to test the connection on s...</td>\n",
       "    </tr>\n",
       "    <tr>\n",
       "      <th>4</th>\n",
       "      <td>f7f034db-e06a-46da-b680-0af935fe9ee4</td>\n",
       "      <td>0.854</td>\n",
       "      <td>_next_sjms2-component.html.txt_10</td>\n",
       "      <td>0. Camel component name: SJMS2\\n1. Relevant te...</td>\n",
       "      <td>\"For example, the following route shows how yo...</td>\n",
       "    </tr>\n",
       "  </tbody>\n",
       "</table>\n",
       "</div>"
      ],
      "text/plain": [
       "                                     id  score  \\\n",
       "0  418e16a3-6cb6-472e-96bf-058c2dfc6a0a  0.860   \n",
       "1  5f0085d1-fb26-4de0-9f65-9d011f961727  0.855   \n",
       "2  761548f4-5682-4f44-9c6e-265d39cdf7cc  0.854   \n",
       "3  4436ca1f-815f-4a39-9c6d-28ee4697b485  0.854   \n",
       "4  f7f034db-e06a-46da-b680-0af935fe9ee4  0.854   \n",
       "\n",
       "                            page_ref  \\\n",
       "0   _next_sjms-component.html.txt_10   \n",
       "1    _next_sjms-component.html.txt_0   \n",
       "2    _next_jms-component.html.txt_23   \n",
       "3    _next_sjms-component.html.txt_4   \n",
       "4  _next_sjms2-component.html.txt_10   \n",
       "\n",
       "                                            entities  \\\n",
       "0  0. Camel component name: SJMS\\n1. Relevant tec...   \n",
       "1  0. Camel component name: Simple JMS\\n1. Releva...   \n",
       "2  0. Camel component name: JMS\\n1. Relevant tech...   \n",
       "3  0. Camel component name: JMS\\n1. Relevant tech...   \n",
       "4  0. Camel component name: SJMS2\\n1. Relevant te...   \n",
       "\n",
       "                                             content  \n",
       "0  \"For example, the following route shows how yo...  \n",
       "1  \"Article source: https://rhaetor.github.io/rh-...  \n",
       "2  \"Set to true, if you want to send message usin...  \n",
       "3  \"Specifies whether to test the connection on s...  \n",
       "4  \"For example, the following route shows how yo...  "
      ]
     },
     "metadata": {},
     "output_type": "display_data"
    }
   ],
   "source": [
    "display(df.iloc[:NUM_RESULTS])"
   ]
  },
  {
   "cell_type": "markdown",
   "id": "f83146c8-454c-4a7d-abee-00ef3eee90a0",
   "metadata": {},
   "source": [
    "# Sizings"
   ]
  },
  {
   "cell_type": "code",
   "execution_count": 27,
   "id": "7a6f6a40-7def-498f-a5ea-7046085217c4",
   "metadata": {},
   "outputs": [
    {
     "name": "stdout",
     "output_type": "stream",
     "text": [
      "Item 0 :  2400 bytes \n",
      "\n",
      "Item 1 :  2347 bytes \n",
      "\n",
      "Item 2 :  2477 bytes \n",
      "\n",
      "Item 3 :  2166 bytes \n",
      "\n",
      "Item 4 :  2408 bytes \n",
      "\n"
     ]
    }
   ],
   "source": [
    "contents = df['content'].tolist()\n",
    "for i,item in enumerate(contents):    \n",
    "    print(\"Item\", str(i),\": \", len(item), \"bytes \\n\")"
   ]
  },
  {
   "cell_type": "markdown",
   "id": "23bcb6bf-87dc-4db3-b671-c8f1247c7849",
   "metadata": {},
   "source": [
    "# Entities"
   ]
  },
  {
   "cell_type": "code",
   "execution_count": 28,
   "id": "6bfe2139-e1a1-4903-adf4-55d186e5e750",
   "metadata": {},
   "outputs": [
    {
     "name": "stdout",
     "output_type": "stream",
     "text": [
      "Item 0 : \n",
      " 0. Camel component name: SJMS\n",
      "1. Relevant technical concepts: JMS endpoints, dynamic destinations, transacted mode\n",
      "3. Third-party services or tools: Not specified \n",
      "\n",
      "\n",
      "Item 1 : \n",
      " 0. Camel component name: Simple JMS\n",
      "1. Relevant technical concepts: JMS, Spring JMS, Maven\n",
      "3. Third-party services or tools: Spring Framework, JTA Transaction \n",
      "\n",
      "\n",
      "Item 2 : \n",
      " 0. Camel component name: JMS\n",
      "1. Relevant technical concepts: JMSPriority, JMSDeliveryMode, JMSExpiration, request/reply over JMS, message priority\n",
      "3. Third-party services or tools: Not specified \n",
      "\n",
      "\n",
      "Item 3 : \n",
      " 0. Camel component name: JMS\n",
      "1. Relevant technical concepts: JMS Consumer, Asynchronous Processing, Client ID, Concurrent Consumers, Durable Subscription\n",
      "3. Third-party services or tools: Apache ActiveMQ \n",
      "\n",
      "\n",
      "Item 4 : \n",
      " 0. Camel component name: SJMS2\n",
      "1. Relevant technical concepts mentioned: JMS, JMS endpoint URL, CamelJmsDestinationName header, toD, transacted, JMS Session\n",
      "3. Thirdparty services or tools mentioned: Not specified \n",
      "\n",
      "\n"
     ]
    }
   ],
   "source": [
    "entities = df['entities'].tolist()\n",
    "for i, item in enumerate(entities):        \n",
    "    print(\"Item\", str(i),\": \\n\", item, \"\\n\\n\")\n",
    "\n"
   ]
  }
 ],
 "metadata": {
  "kernelspec": {
   "display_name": "Python 3 (ipykernel)",
   "language": "python",
   "name": "python3"
  },
  "language_info": {
   "codemirror_mode": {
    "name": "ipython",
    "version": 3
   },
   "file_extension": ".py",
   "mimetype": "text/x-python",
   "name": "python",
   "nbconvert_exporter": "python",
   "pygments_lexer": "ipython3",
   "version": "3.11.6"
  }
 },
 "nbformat": 4,
 "nbformat_minor": 5
}
