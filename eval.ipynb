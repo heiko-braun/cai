{
 "cells": [
  {
   "cell_type": "code",
   "execution_count": 1,
   "metadata": {},
   "outputs": [],
   "source": [
    "from core.agent import agent_executor, agent_llm\n",
    "from core.CustomTools import fetch_and_rerank\n",
    "\n",
    "from langchain.agents.openai_functions_agent.agent_token_buffer_memory import (\n",
    "    AgentTokenBufferMemory,\n",
    ")\n",
    "\n",
    "\n",
    "from datasets import Dataset\n",
    "\n",
    "from ragas import evaluate\n",
    "from ragas.metrics import (\n",
    "    faithfulness,\n",
    "    answer_relevancy,\n",
    "    context_recall,\n",
    "    context_precision,\n",
    ")\n",
    "\n",
    "import regex as re\n",
    "import glob\n",
    "\n",
    "# ---\n",
    "\n",
    "agent_memory = AgentTokenBufferMemory(llm=agent_llm)\n",
    "\n",
    "def query_agent(prompt):\n",
    "   response = agent_executor(\n",
    "            #{\"input\": prompt, \"history\": agent_memory.buffer},            \n",
    "            {\"input\": prompt, \"history\": []},            \n",
    "            include_run_info=True,\n",
    "        )\n",
    "   return response\n",
    "\n"
   ]
  },
  {
   "cell_type": "code",
   "execution_count": 20,
   "metadata": {},
   "outputs": [
    {
     "name": "stdout",
     "output_type": "stream",
     "text": [
      "Questions: 2\n",
      "Grounded Truths: 2\n"
     ]
    }
   ],
   "source": [
    "# source data\n",
    "\n",
    "filenames = []\n",
    "for _file in glob.glob(\"ragas_data/*.txt\"):\n",
    "    filenames.append(_file)\n",
    "\n",
    "questions = []\n",
    "ground_truths = []\n",
    "\n",
    "DELIM = \"__###__\"\n",
    "for name in filenames:\n",
    "    file_content = None\n",
    "    with open(name) as f:                \n",
    "        file_content = f.read()\n",
    "\n",
    "    content = file_content.split(DELIM)\n",
    "    questions.append(content[0])\n",
    "    truths = []\n",
    "    truths.append(content[1])\n",
    "    ground_truths.append(truths)\n",
    "\n",
    "print(\"Questions:\", len(questions))\n",
    "print(\"Grounded Truths:\", len(ground_truths))\n",
    "    "
   ]
  },
  {
   "cell_type": "code",
   "execution_count": 15,
   "metadata": {},
   "outputs": [
    {
     "name": "stdout",
     "output_type": "stream",
     "text": [
      "Embedding ms:  0.3784139156341553\n",
      "0.831 :  _faq_how-do-the-direct-event-seda-and-vm-endpoints-compare.html.txt\n",
      "0.82 :  _eips_aggregate-eip.html.txt_10\n",
      "0.822 :  _eips_scatter-gather.html.txt_2\n",
      "0.829 :  _others_cloudevents.html.txt\n",
      "0.829 :  _next_timer-component.html.txt_3\n",
      "Embedding ms:  0.3508141040802002\n",
      "0.83 :  _next_timer-component.html.txt_3\n",
      "0.814 :  _next_jooq-component.html.txt_6\n",
      "0.81 :  _manual_endpoint.html.txt\n",
      "0.818 :  _manual_route-reload.html.txt_0\n",
      "0.812 :  _faq_how-to-send-the-same-message-to-multiple-endpoints.html.txt\n",
      "Embedding ms:  0.6066417694091797\n",
      "0.86 :  _next_aws2-s3-component.html.txt_11\n",
      "0.831 :  _next_aws-summary.html.txt\n",
      "0.832 :  _next_aws2-s3-component.html.txt_20\n",
      "0.758 :  _manual_camel-jbang.html.txt_3\n",
      "0.817 :  _next_aws2-s3-component.html.txt_9\n",
      "Embedding ms:  0.342710018157959\n",
      "0.795 :  _next_aws2-s3-component.html.txt_11\n",
      "0.726 :  _books_.txt\n",
      "0.776 :  _next_azure-storage-datalake-component.html.txt_14\n",
      "0.772 :  _next_ftp-component.html.txt_21\n",
      "0.726 :  _manual_stream-caching.html.txt_3\n",
      "Answer len: 2\n",
      "Context len: 2\n"
     ]
    }
   ],
   "source": [
    "answers = []\n",
    "contexts = []\n",
    "\n",
    "# Inference\n",
    "for query in questions:\n",
    "  \n",
    "  # retrieve an answer\n",
    "  response = query_agent(query)\n",
    "  answers.append(response[\"output\"])\n",
    "\n",
    "  # retrieve the context (full query, which is different to what the agent does)\n",
    "  docs = fetch_and_rerank(query, [\"rhaetor.github.io_2\", \"rhaetor.github.io_components_2\"])  \n",
    "  \n",
    "  response_content = [d.page_content for d in docs]        \n",
    "  contexts.append(response_content)\n",
    "\n",
    "print(\"Answer len:\", len(contexts))\n",
    "print(\"Context len:\", len(contexts))\n",
    "\n"
   ]
  },
  {
   "cell_type": "code",
   "execution_count": 21,
   "metadata": {},
   "outputs": [
    {
     "name": "stdout",
     "output_type": "stream",
     "text": [
      "evaluating with [context_precision]\n"
     ]
    },
    {
     "name": "stderr",
     "output_type": "stream",
     "text": [
      "100%|███████████████████████████████████████████████████████████████████████████████████████████████████████████████████████| 1/1 [00:05<00:00,  5.24s/it]\n"
     ]
    },
    {
     "name": "stdout",
     "output_type": "stream",
     "text": [
      "evaluating with [context_recall]\n"
     ]
    },
    {
     "name": "stderr",
     "output_type": "stream",
     "text": [
      "100%|███████████████████████████████████████████████████████████████████████████████████████████████████████████████████████| 1/1 [00:12<00:00, 12.38s/it]\n"
     ]
    },
    {
     "name": "stdout",
     "output_type": "stream",
     "text": [
      "evaluating with [faithfulness]\n"
     ]
    },
    {
     "name": "stderr",
     "output_type": "stream",
     "text": [
      "100%|███████████████████████████████████████████████████████████████████████████████████████████████████████████████████████| 1/1 [00:25<00:00, 25.08s/it]\n"
     ]
    },
    {
     "name": "stdout",
     "output_type": "stream",
     "text": [
      "evaluating with [answer_relevancy]\n"
     ]
    },
    {
     "name": "stderr",
     "output_type": "stream",
     "text": [
      "100%|███████████████████████████████████████████████████████████████████████████████████████████████████████████████████████| 1/1 [00:04<00:00,  4.45s/it]\n"
     ]
    },
    {
     "data": {
      "text/html": [
       "<div>\n",
       "<style scoped>\n",
       "    .dataframe tbody tr th:only-of-type {\n",
       "        vertical-align: middle;\n",
       "    }\n",
       "\n",
       "    .dataframe tbody tr th {\n",
       "        vertical-align: top;\n",
       "    }\n",
       "\n",
       "    .dataframe thead th {\n",
       "        text-align: right;\n",
       "    }\n",
       "</style>\n",
       "<table border=\"1\" class=\"dataframe\">\n",
       "  <thead>\n",
       "    <tr style=\"text-align: right;\">\n",
       "      <th></th>\n",
       "      <th>question</th>\n",
       "      <th>answer</th>\n",
       "      <th>contexts</th>\n",
       "      <th>ground_truths</th>\n",
       "      <th>context_precision</th>\n",
       "      <th>context_recall</th>\n",
       "      <th>faithfulness</th>\n",
       "      <th>answer_relevancy</th>\n",
       "    </tr>\n",
       "  </thead>\n",
       "  <tbody>\n",
       "    <tr>\n",
       "      <th>0</th>\n",
       "      <td>I am having an issue while working on the requ...</td>\n",
       "      <td>To listen to the events generated by one route...</td>\n",
       "      <td>[\"Sample\\n\\n\\nTo set up a route that generates...</td>\n",
       "      <td>[\\nTo listen to the events of one route by ano...</td>\n",
       "      <td>0.0</td>\n",
       "      <td>1.0</td>\n",
       "      <td>1.0</td>\n",
       "      <td>0.767416</td>\n",
       "    </tr>\n",
       "    <tr>\n",
       "      <th>1</th>\n",
       "      <td>I want to read a local file, create equal chun...</td>\n",
       "      <td>To read a local file, create equal chunks, and...</td>\n",
       "      <td>[\"If we want to trust all certificates in case...</td>\n",
       "      <td>[\\nTo read a local file, create equal chunks, ...</td>\n",
       "      <td>0.0</td>\n",
       "      <td>1.0</td>\n",
       "      <td>1.0</td>\n",
       "      <td>0.795805</td>\n",
       "    </tr>\n",
       "  </tbody>\n",
       "</table>\n",
       "</div>"
      ],
      "text/plain": [
       "                                            question  \\\n",
       "0  I am having an issue while working on the requ...   \n",
       "1  I want to read a local file, create equal chun...   \n",
       "\n",
       "                                              answer  \\\n",
       "0  To listen to the events generated by one route...   \n",
       "1  To read a local file, create equal chunks, and...   \n",
       "\n",
       "                                            contexts  \\\n",
       "0  [\"Sample\\n\\n\\nTo set up a route that generates...   \n",
       "1  [\"If we want to trust all certificates in case...   \n",
       "\n",
       "                                       ground_truths  context_precision  \\\n",
       "0  [\\nTo listen to the events of one route by ano...                0.0   \n",
       "1  [\\nTo read a local file, create equal chunks, ...                0.0   \n",
       "\n",
       "   context_recall  faithfulness  answer_relevancy  \n",
       "0             1.0           1.0          0.767416  \n",
       "1             1.0           1.0          0.795805  "
      ]
     },
     "execution_count": 21,
     "metadata": {},
     "output_type": "execute_result"
    }
   ],
   "source": [
    "# To dict\n",
    "data = {\n",
    "    \"question\": questions,\n",
    "    \"answer\": answers,\n",
    "    \"contexts\": contexts,\n",
    "    \"ground_truths\": ground_truths\n",
    "}\n",
    "\n",
    "# Convert dict to dataset\n",
    "dataset = Dataset.from_dict(data)\n",
    "\n",
    "result = evaluate(\n",
    "    dataset = dataset, \n",
    "    metrics=[\n",
    "        context_precision,\n",
    "        context_recall,\n",
    "        faithfulness,\n",
    "        answer_relevancy,\n",
    "    ],\n",
    ")\n",
    "\n",
    "df = result.to_pandas()\n",
    "\n",
    "df.head()"
   ]
  },
  {
   "cell_type": "code",
   "execution_count": null,
   "metadata": {},
   "outputs": [],
   "source": []
  },
  {
   "cell_type": "code",
   "execution_count": null,
   "metadata": {},
   "outputs": [],
   "source": []
  }
 ],
 "metadata": {
  "kernelspec": {
   "display_name": "Python 3 (ipykernel)",
   "language": "python",
   "name": "python3"
  },
  "language_info": {
   "codemirror_mode": {
    "name": "ipython",
    "version": 3
   },
   "file_extension": ".py",
   "mimetype": "text/x-python",
   "name": "python",
   "nbconvert_exporter": "python",
   "pygments_lexer": "ipython3",
   "version": "3.11.6"
  }
 },
 "nbformat": 4,
 "nbformat_minor": 4
}
