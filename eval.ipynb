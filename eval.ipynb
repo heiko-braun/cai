{
 "cells": [
  {
   "cell_type": "code",
   "execution_count": 1,
   "metadata": {},
   "outputs": [],
   "source": [
    "from core.agent import agent_executor, agent_llm\n",
    "from core.CustomTools import fetch_and_rerank\n",
    "\n",
    "from langchain.agents.openai_functions_agent.agent_token_buffer_memory import (\n",
    "    AgentTokenBufferMemory,\n",
    ")\n",
    "\n",
    "\n",
    "from datasets import Dataset\n",
    "\n",
    "from ragas import evaluate\n",
    "from ragas.metrics import (\n",
    "    faithfulness,\n",
    "    answer_relevancy,\n",
    "    context_recall,\n",
    "    context_precision,\n",
    ")\n",
    "\n",
    "import regex as re\n",
    "import glob\n",
    "\n",
    "from core.ragas import RagasCallbackHandler\n",
    "\n",
    "# ---\n",
    "\n",
    "#agent_memory = AgentTokenBufferMemory(llm=agent_llm)\n",
    "callback_handler = RagasCallbackHandler()\n",
    "def query_agent(prompt):\n",
    "   response = agent_executor(\n",
    "            {\"input\": prompt, \"history\": []},                        \n",
    "            callbacks=[callback_handler],\n",
    "            include_run_info=True,\n",
    "        )\n",
    "   return response\n",
    "\n"
   ]
  },
  {
   "cell_type": "code",
   "execution_count": 18,
   "metadata": {},
   "outputs": [
    {
     "name": "stdout",
     "output_type": "stream",
     "text": [
      "Questions: 2\n",
      "Grounded Truths: 2\n"
     ]
    }
   ],
   "source": [
    "# source data\n",
    "\n",
    "filenames = []\n",
    "for _file in glob.glob(\"ragas_data/*.txt\"):\n",
    "    filenames.append(_file)\n",
    "\n",
    "questions = []\n",
    "ground_truths = []\n",
    "\n",
    "DELIM = \"__###__\"\n",
    "for name in filenames:\n",
    "    file_content = None\n",
    "    with open(name) as f:                \n",
    "        file_content = f.read()\n",
    "\n",
    "    content = file_content.split(DELIM)\n",
    "    questions.append(content[0])\n",
    "    truths = []\n",
    "    truths.append(content[1])\n",
    "    ground_truths.append(truths)\n",
    "\n",
    "print(\"Questions:\", len(questions))\n",
    "print(\"Grounded Truths:\", len(ground_truths))\n",
    "    "
   ]
  },
  {
   "cell_type": "code",
   "execution_count": 19,
   "metadata": {},
   "outputs": [
    {
     "name": "stdout",
     "output_type": "stream",
     "text": [
      "\n",
      "\n",
      "\u001b[1m> Entering new AgentExecutor chain...\u001b[0m\n",
      "starting tool ...  event aggregation in Apache Camel\n",
      "Embedding ms:  0.33567118644714355\n",
      "0.831 :  _faq_how-do-the-direct-event-seda-and-vm-endpoints-compare.html.txt\n",
      "0.829 :  _others_cloudevents.html.txt\n",
      "0.82 :  _eips_aggregate-eip.html.txt_10\n",
      "0.829 :  _next_timer-component.html.txt_3\n",
      "0.83 :  _eips_split-eip.html.txt_10\n",
      "ending tool ... \n",
      "\n",
      "\u001b[1m> Finished chain.\u001b[0m\n",
      "Input:  1\n",
      "Outputs:  1\n",
      "\n",
      "\n",
      "\u001b[1m> Entering new AgentExecutor chain...\u001b[0m\n",
      "starting tool ...  file\n",
      "Embedding ms:  0.3491039276123047\n",
      "0.782 :  _next_file-component.html.txt_19\n",
      "0.772 :  _next_sftp-component.html.txt_13\n",
      "0.78 :  _eips_competing-consumers.html.txt_2\n",
      "0.78 :  _next_ftp-component.html.txt_21\n",
      "0.774 :  _next_file-component.html.txt_0\n",
      "ending tool ... \n",
      "starting tool ...  AWS S3\n",
      "ending tool ... \n",
      "\n",
      "\u001b[1m> Finished chain.\u001b[0m\n",
      "Input:  2\n",
      "Outputs:  2\n",
      "Answer len: 2\n",
      "Context len: 2\n"
     ]
    }
   ],
   "source": [
    "answers = []\n",
    "contexts = []\n",
    "\n",
    "# Inference\n",
    "for query in questions:\n",
    "  \n",
    "  # retrieve an answer\n",
    "  response = query_agent(query)\n",
    "  answers.append(response[\"output\"])\n",
    "\n",
    "  inputs, outputs = callback_handler.clear_collected_outputs()\n",
    "  print(\"Input: \", len(inputs))\n",
    "  print(\"Outputs: \", len(outputs))\n",
    "\n",
    "  results = []  \n",
    "  [results.append(doc) for doc in outputs]          \n",
    "  contexts.append(results)  \n",
    "\n",
    "print(\"Answer len:\", len(contexts))\n",
    "print(\"Context len:\", len(contexts))\n",
    "\n"
   ]
  },
  {
   "cell_type": "code",
   "execution_count": 17,
   "metadata": {},
   "outputs": [
    {
     "name": "stdout",
     "output_type": "stream",
     "text": [
      "evaluating with [context_precision]\n"
     ]
    },
    {
     "name": "stderr",
     "output_type": "stream",
     "text": [
      "100%|███████████████████████████████████████████████████████████████████████████████████████████████████████████████████████| 1/1 [00:06<00:00,  6.95s/it]\n"
     ]
    },
    {
     "name": "stdout",
     "output_type": "stream",
     "text": [
      "evaluating with [context_recall]\n"
     ]
    },
    {
     "name": "stderr",
     "output_type": "stream",
     "text": [
      "100%|███████████████████████████████████████████████████████████████████████████████████████████████████████████████████████| 1/1 [00:10<00:00, 10.60s/it]\n"
     ]
    },
    {
     "name": "stdout",
     "output_type": "stream",
     "text": [
      "evaluating with [faithfulness]\n"
     ]
    },
    {
     "name": "stderr",
     "output_type": "stream",
     "text": [
      "100%|███████████████████████████████████████████████████████████████████████████████████████████████████████████████████████| 1/1 [00:16<00:00, 16.36s/it]\n"
     ]
    },
    {
     "name": "stdout",
     "output_type": "stream",
     "text": [
      "evaluating with [answer_relevancy]\n"
     ]
    },
    {
     "name": "stderr",
     "output_type": "stream",
     "text": [
      "100%|███████████████████████████████████████████████████████████████████████████████████████████████████████████████████████| 1/1 [00:02<00:00,  2.47s/it]\n"
     ]
    },
    {
     "data": {
      "text/html": [
       "<div>\n",
       "<style scoped>\n",
       "    .dataframe tbody tr th:only-of-type {\n",
       "        vertical-align: middle;\n",
       "    }\n",
       "\n",
       "    .dataframe tbody tr th {\n",
       "        vertical-align: top;\n",
       "    }\n",
       "\n",
       "    .dataframe thead th {\n",
       "        text-align: right;\n",
       "    }\n",
       "</style>\n",
       "<table border=\"1\" class=\"dataframe\">\n",
       "  <thead>\n",
       "    <tr style=\"text-align: right;\">\n",
       "      <th></th>\n",
       "      <th>question</th>\n",
       "      <th>answer</th>\n",
       "      <th>contexts</th>\n",
       "      <th>ground_truths</th>\n",
       "      <th>context_precision</th>\n",
       "      <th>context_recall</th>\n",
       "      <th>faithfulness</th>\n",
       "      <th>answer_relevancy</th>\n",
       "    </tr>\n",
       "  </thead>\n",
       "  <tbody>\n",
       "    <tr>\n",
       "      <th>0</th>\n",
       "      <td>I want to read a local file, create equal chun...</td>\n",
       "      <td>To read a local file, create equal chunks, and...</td>\n",
       "      <td>[page_content='\"from(\"file://inbox?preMove=inp...</td>\n",
       "      <td>[\\nTo read a local file, create equal chunks, ...</td>\n",
       "      <td>0.0</td>\n",
       "      <td>1.0</td>\n",
       "      <td>0.555556</td>\n",
       "      <td>0.763375</td>\n",
       "    </tr>\n",
       "  </tbody>\n",
       "</table>\n",
       "</div>"
      ],
      "text/plain": [
       "                                            question  \\\n",
       "0  I want to read a local file, create equal chun...   \n",
       "\n",
       "                                              answer  \\\n",
       "0  To read a local file, create equal chunks, and...   \n",
       "\n",
       "                                            contexts  \\\n",
       "0  [page_content='\"from(\"file://inbox?preMove=inp...   \n",
       "\n",
       "                                       ground_truths  context_precision  \\\n",
       "0  [\\nTo read a local file, create equal chunks, ...                0.0   \n",
       "\n",
       "   context_recall  faithfulness  answer_relevancy  \n",
       "0             1.0      0.555556          0.763375  "
      ]
     },
     "execution_count": 17,
     "metadata": {},
     "output_type": "execute_result"
    }
   ],
   "source": [
    "# To dict\n",
    "data = {\n",
    "    \"question\": questions,\n",
    "    \"answer\": answers,\n",
    "    \"contexts\": contexts,\n",
    "    \"ground_truths\": ground_truths\n",
    "}\n",
    "\n",
    "# Convert dict to dataset\n",
    "dataset = Dataset.from_dict(data)\n",
    "\n",
    "result = evaluate(\n",
    "    dataset = dataset, \n",
    "    metrics=[\n",
    "        context_precision,\n",
    "        context_recall,\n",
    "        faithfulness,\n",
    "        answer_relevancy,\n",
    "    ],\n",
    ")\n",
    "\n",
    "df = result.to_pandas()\n",
    "\n",
    "df.head()"
   ]
  },
  {
   "cell_type": "code",
   "execution_count": null,
   "metadata": {},
   "outputs": [],
   "source": []
  }
 ],
 "metadata": {
  "kernelspec": {
   "display_name": "Python 3 (ipykernel)",
   "language": "python",
   "name": "python3"
  },
  "language_info": {
   "codemirror_mode": {
    "name": "ipython",
    "version": 3
   },
   "file_extension": ".py",
   "mimetype": "text/x-python",
   "name": "python",
   "nbconvert_exporter": "python",
   "pygments_lexer": "ipython3",
   "version": "3.11.6"
  }
 },
 "nbformat": 4,
 "nbformat_minor": 4
}
