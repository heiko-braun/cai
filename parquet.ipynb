{
 "cells": [
  {
   "cell_type": "code",
   "execution_count": 1,
   "id": "b9eaaefd-840f-489d-800f-0d2b29d48e9e",
   "metadata": {},
   "outputs": [],
   "source": [
    "from langchain.agents.agent_types import AgentType\n",
    "from langchain_experimental.agents.agent_toolkits import create_pandas_dataframe_agent\n",
    "from langchain_openai import ChatOpenAI\n",
    "\n",
    "from langchain import hub\n",
    "from langchain.text_splitter import RecursiveCharacterTextSplitter\n",
    "from langchain_community.document_loaders import WebBaseLoader\n",
    "from langchain_community.vectorstores import LanceDB\n",
    "from langchain_core.output_parsers import StrOutputParser\n",
    "from langchain_core.runnables import RunnablePassthrough\n",
    "from langchain_openai import ChatOpenAI, OpenAIEmbeddings\n",
    "from langchain.prompts import PromptTemplate\n",
    "\n",
    "import lancedb\n",
    "\n",
    "from IPython.display import Markdown, display"
   ]
  },
  {
   "cell_type": "markdown",
   "id": "a7c6cbdc-91d0-4726-8fe1-9c45347e0a17",
   "metadata": {},
   "source": [
    "## Source data"
   ]
  },
  {
   "cell_type": "code",
   "execution_count": 33,
   "id": "7a48b497-6cbe-4517-86e0-4d7678b611f2",
   "metadata": {},
   "outputs": [
    {
     "data": {
      "text/html": [
       "<div>\n",
       "<style scoped>\n",
       "    .dataframe tbody tr th:only-of-type {\n",
       "        vertical-align: middle;\n",
       "    }\n",
       "\n",
       "    .dataframe tbody tr th {\n",
       "        vertical-align: top;\n",
       "    }\n",
       "\n",
       "    .dataframe thead th {\n",
       "        text-align: right;\n",
       "    }\n",
       "</style>\n",
       "<table border=\"1\" class=\"dataframe\">\n",
       "  <thead>\n",
       "    <tr style=\"text-align: right;\">\n",
       "      <th></th>\n",
       "      <th>project</th>\n",
       "      <th>path</th>\n",
       "      <th>language</th>\n",
       "      <th>tags</th>\n",
       "      <th>keywords</th>\n",
       "      <th>description</th>\n",
       "      <th>source</th>\n",
       "    </tr>\n",
       "  </thead>\n",
       "  <tbody>\n",
       "    <tr>\n",
       "      <th>0</th>\n",
       "      <td>camel</td>\n",
       "      <td>/Users/opiske/code/java/camel/components/camel...</td>\n",
       "      <td>java</td>\n",
       "      <td></td>\n",
       "      <td>custom check, pause, resume</td>\n",
       "      <td>\"Shows how to create a custom check that can d...</td>\n",
       "      <td>if (count.intValue() &lt;= 1) {\\n  LOG.info(\"Coun...</td>\n",
       "    </tr>\n",
       "    <tr>\n",
       "      <th>1</th>\n",
       "      <td>camel</td>\n",
       "      <td>/Users/opiske/code/java/camel/components/camel...</td>\n",
       "      <td>java</td>\n",
       "      <td></td>\n",
       "      <td>pause consumer, curcuit breaker, kafka</td>\n",
       "      <td>\"Shows how to build a Camel route can pause a ...</td>\n",
       "      <td>return new RouteBuilder(){\\n  @Override public...</td>\n",
       "    </tr>\n",
       "    <tr>\n",
       "      <th>2</th>\n",
       "      <td>camel</td>\n",
       "      <td>/Users/opiske/code/java/camel/components/camel...</td>\n",
       "      <td>java</td>\n",
       "      <td></td>\n",
       "      <td>resume adapter, resume API</td>\n",
       "      <td>\"Shows to create an adapter that is run by Cam...</td>\n",
       "      <td>if (count.intValue() &lt;= 1) {\\n  return true;\\n...</td>\n",
       "    </tr>\n",
       "    <tr>\n",
       "      <th>3</th>\n",
       "      <td>camel</td>\n",
       "      <td>/Users/opiske/code/java/camel/components/camel...</td>\n",
       "      <td>java</td>\n",
       "      <td></td>\n",
       "      <td>resume API</td>\n",
       "      <td>\"Shows to create a route that uses the resume ...</td>\n",
       "      <td>return new RouteBuilder(){\\n  @Override public...</td>\n",
       "    </tr>\n",
       "  </tbody>\n",
       "</table>\n",
       "</div>"
      ],
      "text/plain": [
       "  project                                               path language tags  \\\n",
       "0   camel  /Users/opiske/code/java/camel/components/camel...     java        \n",
       "1   camel  /Users/opiske/code/java/camel/components/camel...     java        \n",
       "2   camel  /Users/opiske/code/java/camel/components/camel...     java        \n",
       "3   camel  /Users/opiske/code/java/camel/components/camel...     java        \n",
       "\n",
       "                                 keywords  \\\n",
       "0             custom check, pause, resume   \n",
       "1  pause consumer, curcuit breaker, kafka   \n",
       "2              resume adapter, resume API   \n",
       "3                              resume API   \n",
       "\n",
       "                                         description  \\\n",
       "0  \"Shows how to create a custom check that can d...   \n",
       "1  \"Shows how to build a Camel route can pause a ...   \n",
       "2  \"Shows to create an adapter that is run by Cam...   \n",
       "3  \"Shows to create a route that uses the resume ...   \n",
       "\n",
       "                                              source  \n",
       "0  if (count.intValue() <= 1) {\\n  LOG.info(\"Coun...  \n",
       "1  return new RouteBuilder(){\\n  @Override public...  \n",
       "2  if (count.intValue() <= 1) {\\n  return true;\\n...  \n",
       "3  return new RouteBuilder(){\\n  @Override public...  "
      ]
     },
     "execution_count": 33,
     "metadata": {},
     "output_type": "execute_result"
    }
   ],
   "source": [
    "import pandas as pd\n",
    "from langchain_openai import OpenAI\n",
    "\n",
    "df = pd.read_parquet('./data/parquet/sources-camel-kafka.parquet', engine='pyarrow')\n",
    "\n",
    "# add some keywords to improve the lookup\n",
    "keywords = [\n",
    "    \"custom check, pause, resume\",\n",
    "    \"pause consumer, curcuit breaker, kafka\",\n",
    "    \"resume adapter, resume API\",\n",
    "    \"resume API\"\n",
    "]\n",
    "\n",
    "df.insert(4, \"keywords\", keywords, True)\n",
    "\n",
    "df.head()"
   ]
  },
  {
   "cell_type": "code",
   "execution_count": 34,
   "id": "8a6083e0-cfc0-45a9-a618-ae2cc46916f6",
   "metadata": {},
   "outputs": [
    {
     "name": "stdout",
     "output_type": "stream",
     "text": [
      "Num docs:  4\n",
      "\"Shows how to create a custom check that can determine whether to pause or continue\"\n",
      "\"Shows how to build a Camel route can pause a Kafka consumer when using the circuit breaker pattern\"\n",
      "\"Shows to create an adapter that is run by Camel when the resume happens \"\n",
      "\"Shows to create a route that uses the resume API\"\n"
     ]
    },
    {
     "data": {
      "text/plain": [
       "[None, None, None, None]"
      ]
     },
     "execution_count": 34,
     "metadata": {},
     "output_type": "execute_result"
    }
   ],
   "source": [
    "from langchain_community.document_loaders import DataFrameLoader\n",
    "loader = DataFrameLoader(df, page_content_column=\"source\")\n",
    "docs = loader.load()\n",
    "print(\"Num docs: \", len(docs))\n",
    "\n",
    "[print(d) for d in list(df[\"description\"])]\n"
   ]
  },
  {
   "cell_type": "markdown",
   "id": "b9244c30-d063-423c-bdfc-12dab24e72d0",
   "metadata": {},
   "source": [
    "## Retriever setup"
   ]
  },
  {
   "cell_type": "code",
   "execution_count": 35,
   "id": "b7992b42-dead-43f6-b343-4341cc31bb2e",
   "metadata": {},
   "outputs": [
    {
     "name": "stdout",
     "output_type": "stream",
     "text": [
      "Created 6 splits\n",
      "<class 'langchain_community.vectorstores.lancedb.LanceDB'>\n"
     ]
    }
   ],
   "source": [
    "text_splitter = RecursiveCharacterTextSplitter(chunk_size=1000, chunk_overlap=200)\n",
    "splits = text_splitter.split_documents(docs)\n",
    "print(f\"Created {len(splits)} splits\")\n",
    "\n",
    "# Use `description` as lancedb.embedding and `page_content` as lancedb.text\n",
    "# this way the lookups will be performed against the description values, but still return the actual sources into the LLM context\n",
    "embeddings = OpenAIEmbeddings()\n",
    "db = lancedb.connect(\"/tmp/lancedb\")\n",
    "table = db.create_table(\n",
    "    \"camel\",\n",
    "    data=[\n",
    "        {\n",
    "            \"vector\": embeddings.embed_query(\"Hello World\"),\n",
    "            \"text\": \"Hello World\",\n",
    "            \"id\": \"1\",\n",
    "        }\n",
    "    ],\n",
    "    mode=\"overwrite\",\n",
    ")\n",
    "\n",
    "# manually create the store so we get the embeddings right\n",
    "lancedb_data = []\n",
    "for i,doc in enumerate(splits):\n",
    "    lancedb_data.append(\n",
    "        {\n",
    "            \"vector\": embeddings.embed_query(doc.metadata[\"keywords\"] + \" \"+ doc.metadata[\"description\"]),\n",
    "            \"text\": doc.metadata[\"description\"] +\"\\n\"+ doc.page_content,\n",
    "            \"id\": i,\n",
    "        }\n",
    "    )\n",
    "table.add(lancedb_data)\n",
    "\n",
    "# create a vectorstore from the pre-populated table\n",
    "vectorstore = LanceDB(table,embeddings)\n",
    "\n",
    "# Retrieve and generate using the relevant snippets of the sources found in the parquet files.\n",
    "retriever = vectorstore.as_retriever()\n",
    "print(type(vectorstore))"
   ]
  },
  {
   "cell_type": "code",
   "execution_count": null,
   "id": "6e1d9517-1719-4074-b051-1c4b86be18dd",
   "metadata": {},
   "outputs": [],
   "source": [
    "# let's take a look at how the retriever actually works\n",
    "matches = retriever.get_relevant_documents(\"Can you show me an example of using the resume API in Camel?\")\n",
    "[print(f\"{i}:\\n {m.page_content}\") for i,m in enumerate(matches)]"
   ]
  },
  {
   "cell_type": "markdown",
   "id": "5edf0b78-37fd-4e73-93d6-f0a5e5352366",
   "metadata": {},
   "source": [
    "## The actual Q&A involving the LLM"
   ]
  },
  {
   "cell_type": "code",
   "execution_count": 36,
   "id": "a824cbcd-ef5b-46c5-b533-ff5da4ff78d4",
   "metadata": {},
   "outputs": [
    {
     "data": {
      "text/markdown": [
       "### Example Questions&Answers"
      ],
      "text/plain": [
       "<IPython.core.display.Markdown object>"
      ]
     },
     "metadata": {},
     "output_type": "display_data"
    },
    {
     "data": {
      "text/markdown": [
       "#### Can you show me an example of using the resume API in Camel?"
      ],
      "text/plain": [
       "<IPython.core.display.Markdown object>"
      ]
     },
     "metadata": {},
     "output_type": "display_data"
    },
    {
     "data": {
      "text/markdown": [
       "Here's an example of using the resume API in Camel:\n",
       "\n",
       "```java\n",
       "import org.apache.camel.builder.RouteBuilder;\n",
       "\n",
       "public class ResumeExampleRoute extends RouteBuilder {\n",
       "    private static final int RETRY_COUNT = 3;\n",
       "\n",
       "    @Override\n",
       "    public void configure() throws Exception {\n",
       "        from(\"kafka:\" + SOURCE_TOPIC + \"?groupId=KafkaPausableConsumerIT&autoOffsetReset=earliest&keyDeserializer=org.apache.kafka.common.serialization.StringDeserializer\" + \"&valueDeserializer=org.apache.kafka.common.serialization.StringDeserializer\" + \"&autoCommitIntervalMs=1000&pollTimeoutMs=1000&autoCommitEnable=true&interceptorClasses=org.apache.camel.component.kafka.MockConsumerInterceptor\")\n",
       "                .pausable(testConsumerListener, o -> canContinue())\n",
       "                .routeId(\"pausable-it\")\n",
       "                .process(exchange -> LOG.info(\"Got record from Kafka: {}\", exchange.getMessage().getBody()))\n",
       "                .to(\"direct:intermediate\");\n",
       "\n",
       "        from(\"direct:intermediate\")\n",
       "                .process(exchange -> {\n",
       "                    LOG.info(\"Got record on the intermediate processor: {}\", exchange.getMessage().getBody());\n",
       "                    if (getCount() <= RETRY_COUNT) {\n",
       "                        throw new RuntimeCamelException(\"Error\");\n",
       "                    }\n",
       "                })\n",
       "                .to(KafkaTestUtil.MOCK_RESULT);\n",
       "    }\n",
       "}\n",
       "```\n",
       "\n",
       "This example demonstrates how to create a Camel route that uses the resume API to pause a Kafka consumer when using the circuit breaker pattern. The `pausable` method is used to pause the consumer, and the `circuitBreaker` method is used to implement the circuit breaker pattern. The `canContinue` method is used to determine if the consumer can resume processing."
      ],
      "text/plain": [
       "<IPython.core.display.Markdown object>"
      ]
     },
     "metadata": {},
     "output_type": "display_data"
    },
    {
     "data": {
      "text/markdown": [
       "#### How do I determine whether to pause or continue a route? Do you have an example?"
      ],
      "text/plain": [
       "<IPython.core.display.Markdown object>"
      ]
     },
     "metadata": {},
     "output_type": "display_data"
    },
    {
     "data": {
      "text/markdown": [
       "To determine whether to pause or continue a route, you can use a custom check or the circuit breaker pattern. \n",
       "\n",
       "Here's an example using a custom check:\n",
       "\n",
       "```java\n",
       "Integer count = getCount(); // Assuming getCount() is a method that retrieves the count\n",
       "if (count.intValue() <= 1) {\n",
       "  LOG.info(\"Count is 1, allowing processing to proceed\");\n",
       "  return true;\n",
       "}\n",
       "if (count.intValue() >= SIMULATED_FAILURES) {\n",
       "  LOG.info(\"Count is {}, allowing processing to proceed because it's greater than retry count {}\",count.intValue(),SIMULATED_FAILURES);\n",
       "  return true;\n",
       "}\n",
       "LOG.info(\"Cannot proceed at the moment ... count is {}\",count.intValue());\n",
       "return false;\n",
       "```\n",
       "\n",
       "And here's an example using the circuit breaker pattern in a Camel route:\n",
       "\n",
       "```java\n",
       "CircuitBreaker circuitBreaker = CircuitBreaker.ofDefaults(\"pausable\");\n",
       "circuitBreaker.getEventPublisher().onSuccess(event -> {\n",
       "  LOG.info(\"Downstream call succeeded\");\n",
       "  // Additional logic for success\n",
       "}).onError(event -> {\n",
       "  LOG.info(\"Downstream call error. Starting a thread to simulate checking for the downstream availability\");\n",
       "  // Additional logic for error\n",
       "});\n",
       "getCamelContext().getRegistry().bind(\"pausableCircuit\", circuitBreaker);\n",
       "\n",
       "from(\"kafka:\" + SOURCE_TOPIC + \"?groupId=KafkaPausableConsumerCircuitBreakerIT&autoOffsetReset=earliest&keyDeserializer=org.apache.kafka.common.serialization.StringDeserializer\"+ \"&valueDeserializer=org.apache.kafka.common.serialization.StringDeserializer\"+ \"&autoCommitIntervalMs=1000&pollTimeoutMs=1000&autoCommitEnable=true&interceptorClasses=org.apache.camel.component.kafka.MockConsumerInterceptor\").pausable(new KafkaConsumerListener(), o -> canContinue()).routeId(\"pausable-it\").process(exchange -> LOG.info(\"Got record from Kafka: {}\",exchange.getMessage().getBody())).circuitBreaker().resilience4jConfiguration().circuitBreaker(\"pausableCircuit\").end().to(\"direct:intermediate\");\n",
       "\n",
       "from(\"direct:intermediate\").process(exchange -> {\n",
       "  LOG.info(\"Got record on the intermediate processor: {}\",exchange.getMessage().getBody());\n",
       "  if (getCount() <= SIMULATED_FAILURES) {\n",
       "    throw new RuntimeCamelException(\"Error\");\n",
       "  }\n",
       "}).to(KafkaTestUtil.MOCK_RESULT).end();\n",
       "```\n",
       "\n",
       "These examples demonstrate how to determine whether to pause or continue a route using a custom check and the circuit breaker pattern in Java with Apache Camel."
      ],
      "text/plain": [
       "<IPython.core.display.Markdown object>"
      ]
     },
     "metadata": {},
     "output_type": "display_data"
    }
   ],
   "source": [
    "llm = ChatOpenAI(model_name=\"gpt-3.5-turbo-1106\", temperature=0)\n",
    "\n",
    "prompt = PromptTemplate.from_template(\"\"\"\n",
    "    You are an assistant for question-answering tasks. Use the following pieces of retrieved context to answer the question. \n",
    "    If you don't know the answer, just say that you don't know. \n",
    "    Please provide end-to-end examples in Java when applicable. \n",
    "\n",
    "    Question: {question} \n",
    "\n",
    "    Context: {context} \n",
    "\n",
    "    Answer:\n",
    "\"\"\")\n",
    "\n",
    "def format_docs(docs):      \n",
    "    return \"\\n\\n\".join(doc.page_content for doc in docs)\n",
    "\n",
    "rag_chain = (\n",
    "    {\"context\": retriever | format_docs, \"question\": RunnablePassthrough()}\n",
    "    | prompt\n",
    "    | llm\n",
    "    | StrOutputParser()\n",
    ")\n",
    "\n",
    "questions = [\n",
    "    \"Can you show me an example of using the resume API in Camel?\",    \n",
    "    \"How do I determine whether to pause or continue a route? Do you have an example?\",        \n",
    "]\n",
    "\n",
    "from langchain.globals import set_debug\n",
    "set_debug(False)\n",
    "\n",
    "display(Markdown(\"### Example Questions&Answers\"))\n",
    "for i,q in enumerate(questions):\n",
    "    display(Markdown(\"#### \"+q))\n",
    "    result = rag_chain.invoke(q)    \n",
    "    display(Markdown(result))    \n",
    "    \n",
    "\n"
   ]
  }
 ],
 "metadata": {
  "kernelspec": {
   "display_name": "Python 3 (ipykernel)",
   "language": "python",
   "name": "python3"
  },
  "language_info": {
   "codemirror_mode": {
    "name": "ipython",
    "version": 3
   },
   "file_extension": ".py",
   "mimetype": "text/x-python",
   "name": "python",
   "nbconvert_exporter": "python",
   "pygments_lexer": "ipython3",
   "version": "3.11.6"
  }
 },
 "nbformat": 4,
 "nbformat_minor": 5
}
