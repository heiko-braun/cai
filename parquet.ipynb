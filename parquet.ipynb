{
 "cells": [
  {
   "cell_type": "code",
   "execution_count": 1,
   "id": "b9eaaefd-840f-489d-800f-0d2b29d48e9e",
   "metadata": {},
   "outputs": [],
   "source": [
    "from langchain.agents.agent_types import AgentType\n",
    "from langchain_experimental.agents.agent_toolkits import create_pandas_dataframe_agent\n",
    "from langchain_openai import ChatOpenAI\n",
    "\n",
    "from langchain import hub\n",
    "from langchain.text_splitter import RecursiveCharacterTextSplitter\n",
    "from langchain_community.document_loaders import WebBaseLoader\n",
    "from langchain_community.vectorstores import LanceDB\n",
    "from langchain_core.output_parsers import StrOutputParser\n",
    "from langchain_core.runnables import RunnablePassthrough\n",
    "from langchain_openai import ChatOpenAI, OpenAIEmbeddings\n",
    "from langchain.prompts import PromptTemplate\n",
    "\n",
    "import lancedb\n",
    "\n",
    "from IPython.display import Markdown, display"
   ]
  },
  {
   "cell_type": "markdown",
   "id": "b45ca5a7-c890-48ea-b904-2338fc051baf",
   "metadata": {},
   "source": [
    "## Utility Functions"
   ]
  },
  {
   "cell_type": "code",
   "execution_count": 19,
   "id": "6c69db31-7756-4ff2-9b69-b36089a7654a",
   "metadata": {},
   "outputs": [],
   "source": [
    "from openai import OpenAI\n",
    "PROMPT_TEMPLATE = PromptTemplate.from_template(\n",
    "        \"\"\"\n",
    "        Take a look at the following source code and consider the description provided.\n",
    "        Please provide a brief explanation of what the code does.        \n",
    "        Extract any part of the context AS IS that is relevant to provide the explanation.                 \n",
    "\n",
    "        It's safe to assume that the code is written in Java.\n",
    "\n",
    "        > description:\n",
    "        >>>\n",
    "        {description}\n",
    "        >>>\n",
    "        \n",
    "        > Source Code:\n",
    "        >>>\n",
    "        {code}\n",
    "        >>>        \n",
    "        \"\"\"\n",
    "    )\n",
    "\n",
    "def interpret_code(description, code_example):\n",
    "    message = PROMPT_TEMPLATE.format(description=description, code=code_example)\n",
    "    client = OpenAI()    \n",
    "    response = client.chat.completions.create(\n",
    "            model=\"gpt-3.5-turbo-1106\",\n",
    "            messages=[\n",
    "                {\"role\": \"system\", \"content\": \"You are a service used to interpret code examples.\"},\n",
    "                {\"role\": \"user\", \"content\": message}\n",
    "            ]\n",
    "        )    \n",
    "    return response.choices[0].message.content\n"
   ]
  },
  {
   "cell_type": "markdown",
   "id": "a7c6cbdc-91d0-4726-8fe1-9c45347e0a17",
   "metadata": {},
   "source": [
    "## Source data"
   ]
  },
  {
   "cell_type": "code",
   "execution_count": 3,
   "id": "7a48b497-6cbe-4517-86e0-4d7678b611f2",
   "metadata": {},
   "outputs": [
    {
     "data": {
      "text/html": [
       "<div>\n",
       "<style scoped>\n",
       "    .dataframe tbody tr th:only-of-type {\n",
       "        vertical-align: middle;\n",
       "    }\n",
       "\n",
       "    .dataframe tbody tr th {\n",
       "        vertical-align: top;\n",
       "    }\n",
       "\n",
       "    .dataframe thead th {\n",
       "        text-align: right;\n",
       "    }\n",
       "</style>\n",
       "<table border=\"1\" class=\"dataframe\">\n",
       "  <thead>\n",
       "    <tr style=\"text-align: right;\">\n",
       "      <th></th>\n",
       "      <th>project</th>\n",
       "      <th>path</th>\n",
       "      <th>language</th>\n",
       "      <th>tags</th>\n",
       "      <th>description</th>\n",
       "      <th>source</th>\n",
       "    </tr>\n",
       "  </thead>\n",
       "  <tbody>\n",
       "    <tr>\n",
       "      <th>0</th>\n",
       "      <td>camel</td>\n",
       "      <td>/Users/opiske/code/java/camel/components/camel...</td>\n",
       "      <td>java</td>\n",
       "      <td></td>\n",
       "      <td>\"Shows how to create a custom check that can d...</td>\n",
       "      <td>if (count.intValue() &lt;= 1) {\\n  LOG.info(\"Coun...</td>\n",
       "    </tr>\n",
       "    <tr>\n",
       "      <th>1</th>\n",
       "      <td>camel</td>\n",
       "      <td>/Users/opiske/code/java/camel/components/camel...</td>\n",
       "      <td>java</td>\n",
       "      <td></td>\n",
       "      <td>\"Shows how to build a Camel route can pause a ...</td>\n",
       "      <td>return new RouteBuilder(){\\n  @Override public...</td>\n",
       "    </tr>\n",
       "    <tr>\n",
       "      <th>2</th>\n",
       "      <td>camel</td>\n",
       "      <td>/Users/opiske/code/java/camel/components/camel...</td>\n",
       "      <td>java</td>\n",
       "      <td></td>\n",
       "      <td>\"Shows to create an adapter that is run by Cam...</td>\n",
       "      <td>if (count.intValue() &lt;= 1) {\\n  return true;\\n...</td>\n",
       "    </tr>\n",
       "    <tr>\n",
       "      <th>3</th>\n",
       "      <td>camel</td>\n",
       "      <td>/Users/opiske/code/java/camel/components/camel...</td>\n",
       "      <td>java</td>\n",
       "      <td></td>\n",
       "      <td>\"Shows to create a route that uses the resume ...</td>\n",
       "      <td>return new RouteBuilder(){\\n  @Override public...</td>\n",
       "    </tr>\n",
       "  </tbody>\n",
       "</table>\n",
       "</div>"
      ],
      "text/plain": [
       "  project                                               path language tags  \\\n",
       "0   camel  /Users/opiske/code/java/camel/components/camel...     java        \n",
       "1   camel  /Users/opiske/code/java/camel/components/camel...     java        \n",
       "2   camel  /Users/opiske/code/java/camel/components/camel...     java        \n",
       "3   camel  /Users/opiske/code/java/camel/components/camel...     java        \n",
       "\n",
       "                                         description  \\\n",
       "0  \"Shows how to create a custom check that can d...   \n",
       "1  \"Shows how to build a Camel route can pause a ...   \n",
       "2  \"Shows to create an adapter that is run by Cam...   \n",
       "3  \"Shows to create a route that uses the resume ...   \n",
       "\n",
       "                                              source  \n",
       "0  if (count.intValue() <= 1) {\\n  LOG.info(\"Coun...  \n",
       "1  return new RouteBuilder(){\\n  @Override public...  \n",
       "2  if (count.intValue() <= 1) {\\n  return true;\\n...  \n",
       "3  return new RouteBuilder(){\\n  @Override public...  "
      ]
     },
     "execution_count": 3,
     "metadata": {},
     "output_type": "execute_result"
    }
   ],
   "source": [
    "import pandas as pd\n",
    "from langchain_openai import OpenAI\n",
    "\n",
    "df = pd.read_parquet('./data/parquet/sources-camel-kafka.parquet', engine='pyarrow')\n",
    "df.head()"
   ]
  },
  {
   "cell_type": "code",
   "execution_count": 4,
   "id": "8a6083e0-cfc0-45a9-a618-ae2cc46916f6",
   "metadata": {},
   "outputs": [
    {
     "name": "stdout",
     "output_type": "stream",
     "text": [
      "Num docs:  4\n",
      "\"Shows how to create a custom check that can determine whether to pause or continue\"\n",
      "\"Shows how to build a Camel route can pause a Kafka consumer when using the circuit breaker pattern\"\n",
      "\"Shows to create an adapter that is run by Camel when the resume happens \"\n",
      "\"Shows to create a route that uses the resume API\"\n"
     ]
    },
    {
     "data": {
      "text/plain": [
       "[None, None, None, None]"
      ]
     },
     "execution_count": 4,
     "metadata": {},
     "output_type": "execute_result"
    }
   ],
   "source": [
    "from langchain_community.document_loaders import DataFrameLoader\n",
    "loader = DataFrameLoader(df, page_content_column=\"source\")\n",
    "docs = loader.load()\n",
    "print(\"Num docs: \", len(docs))\n",
    "\n",
    "[print(d) for d in list(df[\"description\"])]"
   ]
  },
  {
   "cell_type": "code",
   "execution_count": 20,
   "id": "d9c1dbbb-055b-4837-bf24-70479705c8ad",
   "metadata": {},
   "outputs": [
    {
     "name": "stdout",
     "output_type": "stream",
     "text": [
      "3: This source code represents a custom check that determines whether to pause or continue based on the value of the \"count\" variable. If the count is equal to 1, the code logs a message and allows processing to proceed. If the count exceeds a defined threshold (SIMULATED_FAILURES), it again logs a message and allows processing to continue. If neither of these conditions is met, the code logs a message indicating that processing cannot proceed at the moment and returns false. \n",
      "\n",
      "3: This code snippet demonstrates the construction of a Camel route that leverages a circuit breaker to pause a Kafka consumer. The `CircuitBreaker` is configured with default settings and assigned the name \"pausable\". Event handlers are then attached to the circuit breaker to take action on successful or erroneous downstream calls.\n",
      "\n",
      "The snippet further binds the circuit breaker to the Camel context and defines a route that listens to a Kafka topic. The route includes a pausable consumer, a KafkaConsumerListener, and a circuit breaker configuration.\n",
      "\n",
      "When a message is received from Kafka, it is processed and then sent to an intermediate processor. If the count of processed messages is less than or equal to a defined threshold for simulated failures, an exception is thrown. The generated exception triggers the circuit breaker to take corrective action, thereby pausing the Kafka consumer.\n",
      "\n",
      "Overall, the code outlines the setup of a Camel route that can pause a Kafka consumer using the circuit breaker pattern upon encountering errors in downstream calls. \n",
      "\n",
      "3: The provided code appears to be a Java snippet that is likely part of a method. Based on the context, it seems to be related to defining a condition for an adapter that is executed by Apache Camel when a resume action occurs.\n",
      "\n",
      "The code itself checks the value of a variable `count` and returns true if the value is less than or equal to 1, or if it is greater than or equal to some constant `RETRY_COUNT`. In any other case, it returns false.\n",
      "\n",
      "This logic is likely used to control the behavior of the adapter based on the value of `count` when a resume action is triggered. \n",
      "\n",
      "3: The provided code is a Java route that uses the Apache Camel framework to process messages from a Kafka topic. It sets up a Kafka consumer, processes incoming messages, and then sends them to an intermediate processor. If a certain condition is met, it throws a runtime exception labeled \"Error\". It seems to be demonstrating how to create a route that interacts with the Kafka messaging system using the Apache Camel framework, specifically focusing on the pausable feature. \n",
      "\n"
     ]
    }
   ],
   "source": [
    "# generate an additional description using the LLM\n",
    "\n",
    "for index, row in df.iterrows():\n",
    "    interpretation = interpret_code(row[\"description\"], row[\"source\"])\n",
    "    print(f\"{i}: {interpretation} \\n\")"
   ]
  },
  {
   "cell_type": "markdown",
   "id": "b9244c30-d063-423c-bdfc-12dab24e72d0",
   "metadata": {},
   "source": [
    "## Retriever setup"
   ]
  },
  {
   "cell_type": "code",
   "execution_count": null,
   "id": "b7992b42-dead-43f6-b343-4341cc31bb2e",
   "metadata": {},
   "outputs": [
    {
     "name": "stdout",
     "output_type": "stream",
     "text": [
      "Created 6 splits\n"
     ]
    }
   ],
   "source": [
    "text_splitter = RecursiveCharacterTextSplitter(chunk_size=1000, chunk_overlap=200)\n",
    "splits = text_splitter.split_documents(docs)\n",
    "print(f\"Created {len(splits)} splits\")\n",
    "\n",
    "# Use `description` as lancedb.embedding and `page_content` as lancedb.text\n",
    "# this way the lookups will be performed against the description values, but still return the actual sources into the LLM context\n",
    "embeddings = OpenAIEmbeddings()\n",
    "db = lancedb.connect(\"/tmp/lancedb\")\n",
    "table = db.create_table(\n",
    "    \"camel\",\n",
    "    data=[\n",
    "        {\n",
    "            \"vector\": embeddings.embed_query(\"Hello World\"),\n",
    "            \"text\": \"Hello World\",\n",
    "            \"id\": \"1\",\n",
    "        }\n",
    "    ],\n",
    "    mode=\"overwrite\",\n",
    ")\n",
    "\n",
    "# manually create the store so we get the embeddings right\n",
    "lancedb_data = []\n",
    "for i,doc in enumerate(splits):\n",
    "    lancedb_data.append(\n",
    "        {\n",
    "            \"vector\": embeddings.embed_query(doc.metadata[\"description\"]),\n",
    "            \"text\": doc.metadata[\"description\"] +\"\\n\"+ doc.page_content,\n",
    "            \"id\": i,\n",
    "        }\n",
    "    )\n",
    "table.add(lancedb_data)\n",
    "\n",
    "# create a vectorstore from the pre-populated table\n",
    "vectorstore = LanceDB(table,embeddings)\n",
    "\n",
    "# Retrieve and generate using the relevant snippets of the sources found in the parquet files.\n",
    "retriever = vectorstore.as_retriever()\n",
    "print(type(vectorstore))"
   ]
  },
  {
   "cell_type": "code",
   "execution_count": null,
   "id": "6e1d9517-1719-4074-b051-1c4b86be18dd",
   "metadata": {},
   "outputs": [],
   "source": [
    "# let's take a look at how the retriever actually works\n",
    "matches = retriever.get_relevant_documents(\"Can you show me an example of using the resume API in Camel?\")\n",
    "[print(f\"{i}:\\n {m.page_content}\") for i,m in enumerate(matches)]"
   ]
  },
  {
   "cell_type": "markdown",
   "id": "5edf0b78-37fd-4e73-93d6-f0a5e5352366",
   "metadata": {},
   "source": [
    "## The actual Q&A involving the LLM"
   ]
  },
  {
   "cell_type": "code",
   "execution_count": 24,
   "id": "a824cbcd-ef5b-46c5-b533-ff5da4ff78d4",
   "metadata": {},
   "outputs": [
    {
     "data": {
      "text/markdown": [
       "### Example Questions&Answers"
      ],
      "text/plain": [
       "<IPython.core.display.Markdown object>"
      ]
     },
     "metadata": {},
     "output_type": "display_data"
    },
    {
     "data": {
      "text/markdown": [
       "#### Can you show me an example of using the resume API in Camel?"
      ],
      "text/plain": [
       "<IPython.core.display.Markdown object>"
      ]
     },
     "metadata": {},
     "output_type": "display_data"
    },
    {
     "data": {
      "text/markdown": [
       "I'm sorry, but I don't have enough information to provide a specific example of using the resume API in Camel based on the given context."
      ],
      "text/plain": [
       "<IPython.core.display.Markdown object>"
      ]
     },
     "metadata": {},
     "output_type": "display_data"
    },
    {
     "data": {
      "text/markdown": [
       "#### How do I determine whether to pause or continue a route? Do you have an example?"
      ],
      "text/plain": [
       "<IPython.core.display.Markdown object>"
      ]
     },
     "metadata": {},
     "output_type": "display_data"
    },
    {
     "data": {
      "text/markdown": [
       "To determine whether to pause or continue a route, you can use a condition based on the count value. If the count is less than or equal to 1, or if it's greater than or equal to a predefined number of simulated failures, you can allow the processing to proceed. Otherwise, you can log that the processing cannot proceed at the moment and return false.\n",
       "\n",
       "Here's an example in Java:\n",
       "\n",
       "```java\n",
       "public class RouteProcessor {\n",
       "    private static final int SIMULATED_FAILURES = 5;\n",
       "\n",
       "    public boolean canContinue(int count) {\n",
       "        if (count <= 1) {\n",
       "            System.out.println(\"Count is 1, allowing processing to proceed\");\n",
       "            return true;\n",
       "        } else if (count >= SIMULATED_FAILURES) {\n",
       "            System.out.println(\"Count is \" + count + \", allowing processing to proceed because it's greater than retry count \" + SIMULATED_FAILURES);\n",
       "            return true;\n",
       "        } else {\n",
       "            System.out.println(\"Cannot proceed at the moment ... count is \" + count);\n",
       "            return false;\n",
       "        }\n",
       "    }\n",
       "\n",
       "    public static void main(String[] args) {\n",
       "        RouteProcessor processor = new RouteProcessor();\n",
       "        int count = 3; // Replace with actual count value\n",
       "        boolean canContinue = processor.canContinue(count);\n",
       "        if (canContinue) {\n",
       "            // Continue with the route\n",
       "            System.out.println(\"Route processing continued\");\n",
       "        } else {\n",
       "            // Pause the route\n",
       "            System.out.println(\"Route processing paused\");\n",
       "        }\n",
       "    }\n",
       "}\n",
       "```\n",
       "\n",
       "In this example, the `canContinue` method takes the count as a parameter and determines whether to pause or continue the route based on the count value. The main method demonstrates how to use the `canContinue` method to make a decision on whether to pause or continue the route."
      ],
      "text/plain": [
       "<IPython.core.display.Markdown object>"
      ]
     },
     "metadata": {},
     "output_type": "display_data"
    }
   ],
   "source": [
    "llm = ChatOpenAI(model_name=\"gpt-3.5-turbo-1106\", temperature=0)\n",
    "\n",
    "prompt = PromptTemplate.from_template(\"\"\"\n",
    "    You are an assistant for question-answering tasks. Use the following pieces of retrieved context to answer the question. \n",
    "    If you don't know the answer, just say that you don't know. \n",
    "    Please provide end-to-end examples in Java when applicable. \n",
    "\n",
    "    Question: {question} \n",
    "\n",
    "    Context: {context} \n",
    "\n",
    "    Answer:\n",
    "\"\"\")\n",
    "\n",
    "def format_docs(docs):      \n",
    "    return \"\\n\\n\".join(doc.page_content for doc in docs)\n",
    "\n",
    "rag_chain = (\n",
    "    {\"context\": retriever | format_docs, \"question\": RunnablePassthrough()}\n",
    "    | prompt\n",
    "    | llm\n",
    "    | StrOutputParser()\n",
    ")\n",
    "\n",
    "questions = [\n",
    "    \"Can you show me an example of using the resume API in Camel?\",    \n",
    "    \"How do I determine whether to pause or continue a route? Do you have an example?\",        \n",
    "]\n",
    "\n",
    "from langchain.globals import set_debug\n",
    "set_debug(False)\n",
    "\n",
    "display(Markdown(\"### Example Questions&Answers\"))\n",
    "for i,q in enumerate(questions):\n",
    "    display(Markdown(\"#### \"+q))\n",
    "    result = rag_chain.invoke(q)    \n",
    "    display(Markdown(result))    \n",
    "    \n",
    "\n"
   ]
  }
 ],
 "metadata": {
  "kernelspec": {
   "display_name": "Python 3 (ipykernel)",
   "language": "python",
   "name": "python3"
  },
  "language_info": {
   "codemirror_mode": {
    "name": "ipython",
    "version": 3
   },
   "file_extension": ".py",
   "mimetype": "text/x-python",
   "name": "python",
   "nbconvert_exporter": "python",
   "pygments_lexer": "ipython3",
   "version": "3.11.6"
  }
 },
 "nbformat": 4,
 "nbformat_minor": 5
}
