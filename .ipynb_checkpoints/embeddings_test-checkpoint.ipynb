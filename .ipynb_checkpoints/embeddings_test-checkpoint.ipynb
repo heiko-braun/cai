{
 "cells": [
  {
   "cell_type": "code",
   "execution_count": 1,
   "id": "902bcacc-4055-40c2-8822-f996de6569d8",
   "metadata": {},
   "outputs": [],
   "source": [
    "from openai import OpenAI\n",
    "from conf.constants import *\n",
    "from langchain.prompts import PromptTemplate\n",
    "\n",
    "from qdrant_client import QdrantClient\n",
    "from qdrant_client.http import models"
   ]
  },
  {
   "cell_type": "code",
   "execution_count": 10,
   "id": "6dab6169-b793-4ee9-ac85-2fb4ba9cd4a2",
   "metadata": {},
   "outputs": [],
   "source": [
    "openai_client = OpenAI()\n",
    "\n",
    "def read_file(filename):\n",
    "    with open(TEXT_DIR+DOMAIN+\"/\"+filename) as f:\n",
    "        contents = f.read()\n",
    "        return contents\n",
    "\n",
    "def n_words(text, size):\n",
    "    words = text.split()\n",
    "    n_words = ' '.join(words[:size])\n",
    "    return n_words\n",
    "\n",
    "def get_embedding(text, model=\"text-embedding-ada-002\"):\n",
    "   text = text.replace(\"\\n\", \" \")\n",
    "   resp = openai_client.embeddings.create(input = [text], model=model)\n",
    "   return resp.data[0].embedding\n",
    "\n",
    "# query the vector store\n",
    "def query_qdrant(query, collection_name, top_k=5):\n",
    "    \n",
    "    embedded_query = get_embedding(text=query)\n",
    "    \n",
    "    query_results = qdrant_client.search(\n",
    "        collection_name=collection_name,\n",
    "        query_vector=(embedded_query),\n",
    "        limit=top_k,\n",
    "    )\n",
    "    \n",
    "    return query_results\n",
    "\n",
    "# Vector DB\n",
    "qdrant_client = QdrantClient(\n",
    "    QDRANT_URL,\n",
    "    api_key=QDRANT_KEY,\n",
    ")\n"
   ]
  },
  {
   "cell_type": "code",
   "execution_count": 11,
   "id": "50635eb9-a05a-4f03-a90a-60a445d32564",
   "metadata": {},
   "outputs": [
    {
     "name": "stdout",
     "output_type": "stream",
     "text": [
      "1. camel.apache.org_components_4.0.x__eips_split-eip.html.txt (Score: 0.732)\n",
      "2. camel.apache.org_components_4.0.x__languages_jsonpath-language.html.txt (Score: 0.722)\n",
      "3. camel.apache.org_components_4.0.x__eips_idempotentConsumer-eip.html.txt (Score: 0.72)\n",
      "4. camel.apache.org_components_4.0.x__sql-component.html.txt (Score: 0.716)\n",
      "5. camel.apache.org_components_4.0.x__kafka-component.html.txt (Score: 0.714)\n"
     ]
    }
   ],
   "source": [
    "query_results = query_qdrant(    \n",
    "    query='kafka', \n",
    "    collection_name='camel_docs'\n",
    "    )\n",
    "\n",
    "for i, article in enumerate(query_results):    \n",
    "    print(f'{i + 1}. {article.payload[\"filename\"]} (Score: {round(article.score, 3)})')"
   ]
  }
 ],
 "metadata": {
  "kernelspec": {
   "display_name": "Python 3 (ipykernel)",
   "language": "python",
   "name": "python3"
  },
  "language_info": {
   "codemirror_mode": {
    "name": "ipython",
    "version": 3
   },
   "file_extension": ".py",
   "mimetype": "text/x-python",
   "name": "python",
   "nbconvert_exporter": "python",
   "pygments_lexer": "ipython3",
   "version": "3.11.6"
  }
 },
 "nbformat": 4,
 "nbformat_minor": 5
}
