{
 "cells": [
  {
   "cell_type": "code",
   "execution_count": 15,
   "id": "da8c4600-d3c8-4bda-aa90-ce9dfd6b634e",
   "metadata": {},
   "outputs": [],
   "source": [
    "from conf.constants import QDRANT_KEY, QDRANT_URL\n",
    "from openai import OpenAI\n",
    "from qdrant_client import QdrantClient\n",
    "\n",
    "import warnings\n",
    "warnings.simplefilter(action='ignore', category=FutureWarning)\n",
    "import pandas as pd\n",
    "\n",
    "# create an embedding using openai\n",
    "def get_embedding(text, model=\"text-embedding-ada-002\"):\n",
    "   text = text.replace(\"\\n\", \" \")\n",
    "   resp = OpenAI().embeddings.create(input = [text], model=model)\n",
    "   return resp.data[0].embedding\n",
    "\n",
    "# query the vector store\n",
    "def query_qdrant(query, collection_name, top_k=5):\n",
    "    \n",
    "    embedded_query = get_embedding(text=query)\n",
    "\n",
    "    qdrant_client = QdrantClient(\n",
    "        QDRANT_URL,\n",
    "        api_key=QDRANT_KEY,\n",
    "    )\n",
    "\n",
    "    query_results = qdrant_client.search(\n",
    "        collection_name=collection_name,\n",
    "        query_vector=(embedded_query),\n",
    "        limit=top_k,\n",
    "    )\n",
    "    \n",
    "    return query_results\n"
   ]
  },
  {
   "cell_type": "code",
   "execution_count": 21,
   "id": "3ff186b7-a7fe-46bf-806b-578b9549c4cf",
   "metadata": {},
   "outputs": [
    {
     "name": "stdout",
     "output_type": "stream",
     "text": [
      "done\n"
     ]
    }
   ],
   "source": [
    "COLLECTION = \"quarkus_getting_started\"\n",
    "QUERY = \"deploy Camel Quarkus application to Openshift\"\n",
    "NUM_RESULTS = 5\n",
    "query_results = query_qdrant(        \n",
    "    query=QUERY, \n",
    "    collection_name=COLLECTION,\n",
    "    top_k=NUM_RESULTS\n",
    "    )\n",
    "\n",
    "# list results oreder by score\n",
    "df = pd.DataFrame(columns=['id', 'score', 'page_ref', 'entities', 'content'])\n",
    "\n",
    "for i, article in enumerate(query_results):    \n",
    "    data = {\n",
    "        \"id\": article.id, \n",
    "        \"score\": round(article.score, 3),\n",
    "        \"page_ref\": article.payload[\"metadata\"][\"page_number\"],\n",
    "        \"entities\": article.payload[\"metadata\"][\"entities\"],\n",
    "        \"content\": article.payload[\"page_content\"]              \n",
    "    }\n",
    "    df_new_rows = pd.DataFrame(data, index=[i])\n",
    "    df = pd.concat([df, df_new_rows])    \n",
    "\n",
    "print(\"done\")"
   ]
  },
  {
   "cell_type": "markdown",
   "id": "8a31ebce-d03c-4f18-b021-2eb353afcf70",
   "metadata": {},
   "source": [
    "# General structure"
   ]
  },
  {
   "cell_type": "code",
   "execution_count": 22,
   "id": "e30f9296-19d0-47c4-af4d-8004c7af9d9b",
   "metadata": {},
   "outputs": [
    {
     "data": {
      "text/html": [
       "<div>\n",
       "<style scoped>\n",
       "    .dataframe tbody tr th:only-of-type {\n",
       "        vertical-align: middle;\n",
       "    }\n",
       "\n",
       "    .dataframe tbody tr th {\n",
       "        vertical-align: top;\n",
       "    }\n",
       "\n",
       "    .dataframe thead th {\n",
       "        text-align: right;\n",
       "    }\n",
       "</style>\n",
       "<table border=\"1\" class=\"dataframe\">\n",
       "  <thead>\n",
       "    <tr style=\"text-align: right;\">\n",
       "      <th></th>\n",
       "      <th>id</th>\n",
       "      <th>score</th>\n",
       "      <th>page_ref</th>\n",
       "      <th>entities</th>\n",
       "      <th>content</th>\n",
       "    </tr>\n",
       "  </thead>\n",
       "  <tbody>\n",
       "    <tr>\n",
       "      <th>0</th>\n",
       "      <td>5855fdf2-fd3d-4141-b3b4-1db8c598a208</td>\n",
       "      <td>0.854</td>\n",
       "      <td>0</td>\n",
       "      <td>0. Camel component name: Quarkus\\n1. Relevant ...</td>\n",
       "      <td>\"Red Hat build of Apache Camel\\n \\n4.0\\nGettin...</td>\n",
       "    </tr>\n",
       "    <tr>\n",
       "      <th>1</th>\n",
       "      <td>1f8cdc54-a422-49bd-bab1-3010c20525f6</td>\n",
       "      <td>0.849</td>\n",
       "      <td>24</td>\n",
       "      <td>0. Camel component name: Not specified\\n1. Rel...</td>\n",
       "      <td>\"CHAPTER 2. DEPLOYING QUARKUS APPLICATIONS\\nYo...</td>\n",
       "    </tr>\n",
       "    <tr>\n",
       "      <th>2</th>\n",
       "      <td>f0eab9fc-d602-42ed-9635-c835cf20e266</td>\n",
       "      <td>0.837</td>\n",
       "      <td>2</td>\n",
       "      <td>0. What's the Camel component name: Red Hat bu...</td>\n",
       "      <td>\"Red Hat build of Apache Camel\\n \\n4.0\\n \\nGet...</td>\n",
       "    </tr>\n",
       "    <tr>\n",
       "      <th>3</th>\n",
       "      <td>fd70aeaf-eeb0-4289-8b84-93adec37ae0e</td>\n",
       "      <td>0.836</td>\n",
       "      <td>7</td>\n",
       "      <td>1. What's the Camel component name: Not specif...</td>\n",
       "      <td>\"PREFACE\\nMAKING OPEN SOURCE MORE INCLUSIVE\\nR...</td>\n",
       "    </tr>\n",
       "    <tr>\n",
       "      <th>4</th>\n",
       "      <td>3edcbb48-2ee4-4685-9fc2-5a8b4156b452</td>\n",
       "      <td>0.835</td>\n",
       "      <td>23</td>\n",
       "      <td>0. Camel component name: Not specified\\n1. Rel...</td>\n",
       "      <td>\"Camel Quarkus executes the production of bean...</td>\n",
       "    </tr>\n",
       "  </tbody>\n",
       "</table>\n",
       "</div>"
      ],
      "text/plain": [
       "                                     id  score page_ref  \\\n",
       "0  5855fdf2-fd3d-4141-b3b4-1db8c598a208  0.854        0   \n",
       "1  1f8cdc54-a422-49bd-bab1-3010c20525f6  0.849       24   \n",
       "2  f0eab9fc-d602-42ed-9635-c835cf20e266  0.837        2   \n",
       "3  fd70aeaf-eeb0-4289-8b84-93adec37ae0e  0.836        7   \n",
       "4  3edcbb48-2ee4-4685-9fc2-5a8b4156b452  0.835       23   \n",
       "\n",
       "                                            entities  \\\n",
       "0  0. Camel component name: Quarkus\\n1. Relevant ...   \n",
       "1  0. Camel component name: Not specified\\n1. Rel...   \n",
       "2  0. What's the Camel component name: Red Hat bu...   \n",
       "3  1. What's the Camel component name: Not specif...   \n",
       "4  0. Camel component name: Not specified\\n1. Rel...   \n",
       "\n",
       "                                             content  \n",
       "0  \"Red Hat build of Apache Camel\\n \\n4.0\\nGettin...  \n",
       "1  \"CHAPTER 2. DEPLOYING QUARKUS APPLICATIONS\\nYo...  \n",
       "2  \"Red Hat build of Apache Camel\\n \\n4.0\\n \\nGet...  \n",
       "3  \"PREFACE\\nMAKING OPEN SOURCE MORE INCLUSIVE\\nR...  \n",
       "4  \"Camel Quarkus executes the production of bean...  "
      ]
     },
     "metadata": {},
     "output_type": "display_data"
    }
   ],
   "source": [
    "display(df.iloc[:NUM_RESULTS])"
   ]
  },
  {
   "cell_type": "markdown",
   "id": "f83146c8-454c-4a7d-abee-00ef3eee90a0",
   "metadata": {},
   "source": [
    "# Sizings"
   ]
  },
  {
   "cell_type": "code",
   "execution_count": 27,
   "id": "7a6f6a40-7def-498f-a5ea-7046085217c4",
   "metadata": {},
   "outputs": [
    {
     "name": "stdout",
     "output_type": "stream",
     "text": [
      "Item 0 :  2400 bytes \n",
      "\n",
      "Item 1 :  2347 bytes \n",
      "\n",
      "Item 2 :  2477 bytes \n",
      "\n",
      "Item 3 :  2166 bytes \n",
      "\n",
      "Item 4 :  2408 bytes \n",
      "\n"
     ]
    }
   ],
   "source": [
    "contents = df['content'].tolist()\n",
    "for i,item in enumerate(contents):    \n",
    "    print(\"Item\", str(i),\": \", len(item), \"bytes \\n\")"
   ]
  },
  {
   "cell_type": "markdown",
   "id": "23bcb6bf-87dc-4db3-b671-c8f1247c7849",
   "metadata": {},
   "source": [
    "# Entities"
   ]
  },
  {
   "cell_type": "code",
   "execution_count": 18,
   "id": "6bfe2139-e1a1-4903-adf4-55d186e5e750",
   "metadata": {},
   "outputs": [
    {
     "name": "stdout",
     "output_type": "stream",
     "text": [
      "Item 0 : \n",
      " 0. Camel component name: Quarkus\n",
      "1. Relevant technical concepts: Not specified\n",
      "3. Thirdparty services or tools: Red Hat \n",
      "\n",
      "\n",
      "Item 1 : \n",
      " 0. Camel component name: Not specified\n",
      "1. Relevant technical concepts: OpenShift, Docker build strategy, S2I Binary, Source S2I, Quarkus applications, OpenShift build strategies, Quarkus native executables, deployment strategy\n",
      "3. Thirdparty services or tools: Not specified \n",
      "\n",
      "\n",
      "Item 2 : \n",
      " 0. What's the Camel component name: Red Hat build of Apache Camel for Quarkus\n",
      "1. What are relevant technical concepts mentioned: Quarkus\n",
      "3. What thirdparty services or tools are mentioned: Not specified \n",
      "\n",
      "\n",
      "Item 3 : \n",
      " 1. What's the Camel component name: Not specified\n",
      "2. What are relevant technical concepts mentioned: Quarkus\n",
      "3. What thirdparty services or tools are mentioned: Red Hat \n",
      "\n",
      "\n",
      "Item 4 : \n",
      " 0. Camel component name: Not specified\n",
      "1. Relevant technical concepts mentioned: Quarkus, Camel QuarkusTestSupport, JUnit Jupiter, adviceWith, @Produces, Configuring routes\n",
      "2. Thirdparty services or tools mentioned: Red Hat \n",
      "\n",
      "\n"
     ]
    }
   ],
   "source": [
    "entities = df['entities'].tolist()\n",
    "for i, item in enumerate(entities):        \n",
    "    print(\"Item\", str(i),\": \\n\", item, \"\\n\\n\")\n",
    "\n"
   ]
  }
 ],
 "metadata": {
  "kernelspec": {
   "display_name": "Python 3 (ipykernel)",
   "language": "python",
   "name": "python3"
  },
  "language_info": {
   "codemirror_mode": {
    "name": "ipython",
    "version": 3
   },
   "file_extension": ".py",
   "mimetype": "text/x-python",
   "name": "python",
   "nbconvert_exporter": "python",
   "pygments_lexer": "ipython3",
   "version": "3.11.6"
  }
 },
 "nbformat": 4,
 "nbformat_minor": 5
}
